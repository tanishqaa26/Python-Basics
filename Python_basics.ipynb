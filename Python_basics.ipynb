{
  "nbformat": 4,
  "nbformat_minor": 0,
  "metadata": {
    "colab": {
      "provenance": [],
      "authorship_tag": "ABX9TyO3bcavB58fbc6GSE4DXFW2",
      "include_colab_link": true
    },
    "kernelspec": {
      "name": "python3",
      "display_name": "Python 3"
    },
    "language_info": {
      "name": "python"
    }
  },
  "cells": [
    {
      "cell_type": "markdown",
      "metadata": {
        "id": "view-in-github",
        "colab_type": "text"
      },
      "source": [
        "<a href=\"https://colab.research.google.com/github/tanishqaa26/Python-Basics/blob/main/Python_basics.ipynb\" target=\"_parent\"><img src=\"https://colab.research.google.com/assets/colab-badge.svg\" alt=\"Open In Colab\"/></a>"
      ]
    },
    {
      "cell_type": "code",
      "execution_count": null,
      "metadata": {
        "colab": {
          "base_uri": "https://localhost:8080/"
        },
        "id": "30eTeZPRxfzi",
        "outputId": "ae1269d3-e8e1-4b8c-e706-7339bb15893e"
      },
      "outputs": [
        {
          "output_type": "stream",
          "name": "stdout",
          "text": [
            "Hello World\n"
          ]
        }
      ],
      "source": [
        "print(\"Hello World\")"
      ]
    },
    {
      "cell_type": "code",
      "source": [
        "print(\"Python Basics\")"
      ],
      "metadata": {
        "colab": {
          "base_uri": "https://localhost:8080/"
        },
        "id": "7heClOsvyxAo",
        "outputId": "834c987a-07e1-45e2-b7fb-1b2fcb951b49"
      },
      "execution_count": null,
      "outputs": [
        {
          "output_type": "stream",
          "name": "stdout",
          "text": [
            "Python Basics\n"
          ]
        }
      ]
    },
    {
      "cell_type": "code",
      "source": [
        "\"\"\"\n",
        "This\n",
        "is a\n",
        "comment\n",
        "\"\"\""
      ],
      "metadata": {
        "colab": {
          "base_uri": "https://localhost:8080/",
          "height": 35
        },
        "id": "DmQ1MeL8y0oS",
        "outputId": "d487a967-b84f-4d61-a61a-b3f63783c622"
      },
      "execution_count": null,
      "outputs": [
        {
          "output_type": "execute_result",
          "data": {
            "text/plain": [
              "'\\nThis \\nis a \\ncomment \\n'"
            ],
            "application/vnd.google.colaboratory.intrinsic+json": {
              "type": "string"
            }
          },
          "metadata": {},
          "execution_count": 3
        }
      ]
    },
    {
      "cell_type": "code",
      "source": [
        "x= 23"
      ],
      "metadata": {
        "id": "FkP7qOfG2fdx"
      },
      "execution_count": null,
      "outputs": []
    },
    {
      "cell_type": "code",
      "source": [
        "print(x)"
      ],
      "metadata": {
        "colab": {
          "base_uri": "https://localhost:8080/"
        },
        "id": "up79FQX42h5A",
        "outputId": "0e67a11c-37c2-4bdd-edd9-39ccee4253ab"
      },
      "execution_count": null,
      "outputs": [
        {
          "output_type": "stream",
          "name": "stdout",
          "text": [
            "23\n"
          ]
        }
      ]
    },
    {
      "cell_type": "code",
      "source": [
        "type(x)"
      ],
      "metadata": {
        "colab": {
          "base_uri": "https://localhost:8080/"
        },
        "id": "6rxvigrg2tXg",
        "outputId": "94565945-82fb-4e80-e3a1-768eef8d52e8"
      },
      "execution_count": null,
      "outputs": [
        {
          "output_type": "execute_result",
          "data": {
            "text/plain": [
              "int"
            ]
          },
          "metadata": {},
          "execution_count": 6
        }
      ]
    },
    {
      "cell_type": "code",
      "source": [
        "var1= complex(3,1)"
      ],
      "metadata": {
        "id": "kQBGVx-K2v7S"
      },
      "execution_count": null,
      "outputs": []
    },
    {
      "cell_type": "code",
      "source": [
        "print(var1, type(var1))"
      ],
      "metadata": {
        "colab": {
          "base_uri": "https://localhost:8080/"
        },
        "id": "1L5IaB0l3moS",
        "outputId": "7561a127-dca3-4a21-d7e3-506c28e128db"
      },
      "execution_count": null,
      "outputs": [
        {
          "output_type": "stream",
          "name": "stdout",
          "text": [
            "(3+1j) <class 'complex'>\n"
          ]
        }
      ]
    },
    {
      "cell_type": "code",
      "source": [
        "x= bool(x>5)"
      ],
      "metadata": {
        "id": "OofLzke63sJq"
      },
      "execution_count": null,
      "outputs": []
    },
    {
      "cell_type": "code",
      "source": [
        "print(x)"
      ],
      "metadata": {
        "colab": {
          "base_uri": "https://localhost:8080/"
        },
        "id": "ewEv08Wz5eF-",
        "outputId": "998949de-1ee6-4532-d71d-b19c761172de"
      },
      "execution_count": null,
      "outputs": [
        {
          "output_type": "stream",
          "name": "stdout",
          "text": [
            "True\n"
          ]
        }
      ]
    },
    {
      "cell_type": "code",
      "source": [
        "list= [1,2,3,4,5]"
      ],
      "metadata": {
        "id": "Zwk-XwVE5g1l"
      },
      "execution_count": null,
      "outputs": []
    },
    {
      "cell_type": "code",
      "source": [
        "print(list)"
      ],
      "metadata": {
        "colab": {
          "base_uri": "https://localhost:8080/"
        },
        "id": "GgWWwpHN6E3S",
        "outputId": "322e1136-c983-4851-d9b8-7a609a5d9948"
      },
      "execution_count": null,
      "outputs": [
        {
          "output_type": "stream",
          "name": "stdout",
          "text": [
            "[1, 2, 3, 4, 5]\n"
          ]
        }
      ]
    },
    {
      "cell_type": "code",
      "source": [
        "tuple=(1,2,3,4,5)"
      ],
      "metadata": {
        "id": "qmtnjfrg6Gb8"
      },
      "execution_count": null,
      "outputs": []
    },
    {
      "cell_type": "code",
      "source": [
        "print(tuple)"
      ],
      "metadata": {
        "colab": {
          "base_uri": "https://localhost:8080/"
        },
        "id": "hGgEj_8T6RTz",
        "outputId": "a3dbb257-9b40-49b0-8d11-b769f98b40c3"
      },
      "execution_count": null,
      "outputs": [
        {
          "output_type": "stream",
          "name": "stdout",
          "text": [
            "(1, 2, 3, 4, 5)\n"
          ]
        }
      ]
    },
    {
      "cell_type": "code",
      "source": [
        "tuple=(\"apple\",\"banana\")"
      ],
      "metadata": {
        "id": "ephVJhJr6TZ-"
      },
      "execution_count": null,
      "outputs": []
    },
    {
      "cell_type": "code",
      "source": [
        "print(tuple)"
      ],
      "metadata": {
        "colab": {
          "base_uri": "https://localhost:8080/"
        },
        "id": "TWNIEHCM6ZKC",
        "outputId": "860038c5-be77-4aa6-da1f-0a87e742ae76"
      },
      "execution_count": null,
      "outputs": [
        {
          "output_type": "stream",
          "name": "stdout",
          "text": [
            "('apple', 'banana')\n"
          ]
        }
      ]
    },
    {
      "cell_type": "code",
      "source": [
        "dict= {\"name\":\"tanu\",\"age\":\"22\"}"
      ],
      "metadata": {
        "id": "TTT6ZFTs6a01"
      },
      "execution_count": null,
      "outputs": []
    },
    {
      "cell_type": "code",
      "source": [
        "print(dict)"
      ],
      "metadata": {
        "id": "8Ac7Msrh7fC6",
        "outputId": "fc497e19-df1f-48db-b161-840d7ce8b388",
        "colab": {
          "base_uri": "https://localhost:8080/"
        }
      },
      "execution_count": null,
      "outputs": [
        {
          "output_type": "stream",
          "name": "stdout",
          "text": [
            "{'name': 'tanu', 'age': '22'}\n"
          ]
        }
      ]
    },
    {
      "cell_type": "code",
      "source": [
        "#Explicit type casting"
      ],
      "metadata": {
        "id": "ybMFszDd3x3A"
      },
      "execution_count": null,
      "outputs": []
    },
    {
      "cell_type": "code",
      "source": [
        "a=\"1\"\n",
        "b=2\n",
        "# print(int(a)+ b)"
      ],
      "metadata": {
        "id": "rM2gYwel7g0j"
      },
      "execution_count": null,
      "outputs": []
    },
    {
      "cell_type": "code",
      "source": [
        "c= int(a)\n",
        "sum= b+c\n",
        "print(\"The sum of both number is: \",sum)"
      ],
      "metadata": {
        "colab": {
          "base_uri": "https://localhost:8080/"
        },
        "id": "cE6uyCPyzX3N",
        "outputId": "2842d27f-3c16-4c0f-a160-ab72b87cec6a"
      },
      "execution_count": null,
      "outputs": [
        {
          "output_type": "stream",
          "name": "stdout",
          "text": [
            "The sum of both number is:  3\n"
          ]
        }
      ]
    },
    {
      "cell_type": "code",
      "source": [
        "#Implicit Type casting"
      ],
      "metadata": {
        "id": "m29Uo5t51XkH"
      },
      "execution_count": null,
      "outputs": []
    },
    {
      "cell_type": "code",
      "source": [
        "a=0.09\n",
        "b=1\n",
        "c=\"22\"\n",
        "sum=a+b+float(c)\n",
        "print(sum)\n",
        "print(type(a),type(b),type(c))"
      ],
      "metadata": {
        "colab": {
          "base_uri": "https://localhost:8080/"
        },
        "id": "df3xkLgc34-y",
        "outputId": "8197eef9-091e-4407-cdab-760decab13a0"
      },
      "execution_count": null,
      "outputs": [
        {
          "output_type": "stream",
          "name": "stdout",
          "text": [
            "23.09\n",
            "<class 'float'> <class 'int'> <class 'str'>\n"
          ]
        }
      ]
    },
    {
      "cell_type": "code",
      "source": [
        "#defining a new function\n",
        "def maths():\n",
        " print(\"this is a new function\")"
      ],
      "metadata": {
        "id": "oWu0oDqZ4H3c"
      },
      "execution_count": null,
      "outputs": []
    },
    {
      "cell_type": "code",
      "source": [
        "maths()"
      ],
      "metadata": {
        "colab": {
          "base_uri": "https://localhost:8080/"
        },
        "id": "znYjpIZ0CPSm",
        "outputId": "40a76298-ae02-476b-a7b8-b46893699ec6"
      },
      "execution_count": null,
      "outputs": [
        {
          "output_type": "stream",
          "name": "stdout",
          "text": [
            "this is a new function\n"
          ]
        }
      ]
    },
    {
      "cell_type": "code",
      "source": [
        "def mathsIsbest():\n",
        "  pass"
      ],
      "metadata": {
        "id": "cC0tgrLAD5eJ"
      },
      "execution_count": null,
      "outputs": []
    },
    {
      "cell_type": "code",
      "source": [
        "a=100\n",
        "b=98\n",
        "if(a<b):\n",
        " print(maths())\n",
        "else:\n",
        "    print(\"false\")\n"
      ],
      "metadata": {
        "colab": {
          "base_uri": "https://localhost:8080/"
        },
        "id": "7rIML3L-CfcT",
        "outputId": "040d4491-31bd-4324-8787-3c38dc00a715"
      },
      "execution_count": null,
      "outputs": [
        {
          "output_type": "stream",
          "name": "stdout",
          "text": [
            "false\n"
          ]
        }
      ]
    },
    {
      "cell_type": "code",
      "source": [
        "def my_function(verb):\n",
        "  print(verb + \" python\")\n",
        "\n",
        "my_function(\"learn\")\n",
        "my_function(\"play\")\n",
        "my_function(\"see\")\n"
      ],
      "metadata": {
        "id": "Oo26AiytDNhj",
        "colab": {
          "base_uri": "https://localhost:8080/"
        },
        "outputId": "84232edc-aa1b-44d1-acb8-0077e56f1de1"
      },
      "execution_count": null,
      "outputs": [
        {
          "output_type": "stream",
          "name": "stdout",
          "text": [
            "learn python\n",
            "play python\n",
            "see python\n"
          ]
        }
      ]
    },
    {
      "cell_type": "code",
      "source": [
        "#function with variable length arguments\n",
        "def my_function(*kid):\n",
        "  print(\"His last name is \" + kid[0])\n",
        "\n",
        "my_function(\"tanu\",  \"soni\", \"two\" ,\"shubh\")"
      ],
      "metadata": {
        "colab": {
          "base_uri": "https://localhost:8080/"
        },
        "id": "L_jD05StqBZT",
        "outputId": "09a1ed56-a55f-4d47-b636-a6b7160c03d1"
      },
      "execution_count": null,
      "outputs": [
        {
          "output_type": "stream",
          "name": "stdout",
          "text": [
            "His last name is tanu\n"
          ]
        }
      ]
    },
    {
      "cell_type": "code",
      "source": [
        "#function with kwargs arguments\n",
        "def my_function(**kid):\n",
        "  print(\"Her first name is \" + kid[\"fname\"])\n",
        "\n",
        "my_function(fname=\"tanu\",)"
      ],
      "metadata": {
        "colab": {
          "base_uri": "https://localhost:8080/"
        },
        "id": "-t_LlBRFxEkO",
        "outputId": "ce96f79e-9419-4fb7-c3f4-a0a189ed4043"
      },
      "execution_count": null,
      "outputs": [
        {
          "output_type": "stream",
          "name": "stdout",
          "text": [
            "Her first name is tanu\n"
          ]
        }
      ]
    },
    {
      "cell_type": "code",
      "source": [
        "#create a calculator\n",
        "a= 90\n",
        "b=5\n",
        "print(\"The value of\",a,\"+\" , b,\"is\", a+b)\n",
        "print(\"The value of\",a,\"-\" , b,\"is\", a-b)\n",
        "print(\"The value of\",a,\"*\" , b,\"is\", a*b)\n",
        "print(\"The value of\",a,\"/\" , b,\"is\", a/b)"
      ],
      "metadata": {
        "colab": {
          "base_uri": "https://localhost:8080/"
        },
        "id": "uXi_UCUW1HjD",
        "outputId": "7aceed43-b48d-4ef0-baf4-c3bc8c139ea2"
      },
      "execution_count": null,
      "outputs": [
        {
          "output_type": "stream",
          "name": "stdout",
          "text": [
            "The value of 90 + 5 is 95\n",
            "The value of 90 - 5 is 85\n",
            "The value of 90 * 5 is 450\n",
            "The value of 90 / 5 is 18.0\n"
          ]
        }
      ]
    },
    {
      "cell_type": "code",
      "source": [
        "a=int(input(\"Enter the first number:\"))\n",
        "b=int(input(\"Enter the second number:\"))\n",
        "print(\"Sum is \", a + b)\n",
        "print(\"Difference is \", a - b)\n",
        "print(\"Product is \", a * b)\n",
        "print(\"Quotient when % is zero is \", a / b)"
      ],
      "metadata": {
        "colab": {
          "base_uri": "https://localhost:8080/"
        },
        "id": "hOMDSxmy7v8h",
        "outputId": "da1d07eb-df48-4ed1-c792-b8b7ab365c59"
      },
      "execution_count": null,
      "outputs": [
        {
          "output_type": "stream",
          "name": "stdout",
          "text": [
            "Enter the first number:589\n",
            "Enter the second number:523\n",
            "Sum is  1112\n",
            "Difference is  66\n",
            "Product is  308047\n",
            "Quotient when % is zero is  1.1261950286806883\n"
          ]
        }
      ]
    },
    {
      "cell_type": "code",
      "source": [
        "#Conditional Statements\n",
        "\n",
        "age=180\n",
        "if (age>18):\n",
        " print(\"You're an adult\")"
      ],
      "metadata": {
        "id": "m9l8LR1dDJ9u",
        "colab": {
          "base_uri": "https://localhost:8080/"
        },
        "outputId": "469619f9-8cd0-4341-da28-19022872d983"
      },
      "execution_count": null,
      "outputs": [
        {
          "output_type": "stream",
          "name": "stdout",
          "text": [
            "You're an adult\n"
          ]
        }
      ]
    },
    {
      "cell_type": "code",
      "source": [
        "age=10\n",
        "if (age>18):\n",
        " print(\"You're an adult\")\n",
        "else:\n",
        "  print(\"No you're not\")"
      ],
      "metadata": {
        "colab": {
          "base_uri": "https://localhost:8080/"
        },
        "id": "HssJotSX-K0z",
        "outputId": "def33a13-f85b-43b1-8d9a-cec8a81a8799"
      },
      "execution_count": null,
      "outputs": [
        {
          "output_type": "stream",
          "name": "stdout",
          "text": [
            "No you're not\n"
          ]
        }
      ]
    },
    {
      "cell_type": "code",
      "source": [
        "a= int(input(\"Enter your age: \"))\n",
        "if (age>18):\n",
        " print(\"You're an adult\")\n",
        "else:\n",
        "  print(\"No you're not an adult\")"
      ],
      "metadata": {
        "colab": {
          "base_uri": "https://localhost:8080/"
        },
        "id": "BqGvg6xd-w0p",
        "outputId": "2f6c4f0a-ad2c-4523-b6b5-6a58dfd16f34"
      },
      "execution_count": null,
      "outputs": [
        {
          "output_type": "stream",
          "name": "stdout",
          "text": [
            "Enter your age: 5\n",
            "No you're not an adult\n"
          ]
        }
      ]
    },
    {
      "cell_type": "code",
      "source": [
        "time = 19\n",
        "if time < 12:\n",
        "  print(\"Good morning\")\n",
        "elif time >=12 and time < 18:\n",
        "  print(\"Good afternoon\")\n",
        "else:\n",
        "  print(\"Good evening\")"
      ],
      "metadata": {
        "colab": {
          "base_uri": "https://localhost:8080/"
        },
        "id": "CdUI4QQWAzCY",
        "outputId": "1114c19f-a54c-4822-e893-5e7bf75f74f1"
      },
      "execution_count": null,
      "outputs": [
        {
          "output_type": "stream",
          "name": "stdout",
          "text": [
            "Good evening\n"
          ]
        }
      ]
    },
    {
      "cell_type": "code",
      "source": [
        "a= int(input(\"Enter your number: \"))\n",
        "if (a<0):\n",
        " print(\"Negative\")\n",
        "elif (a==0):\n",
        "  print(\"Zero\")\n",
        "elif (a!=0 and a<2):\n",
        "  print(\"Prime number\")\n",
        "else:\n",
        "  print(\"Positive\")"
      ],
      "metadata": {
        "colab": {
          "base_uri": "https://localhost:8080/"
        },
        "id": "ql0NQvm7C4Qr",
        "outputId": "0e401c0b-7b7f-4f78-c0a7-ff75236686e7"
      },
      "execution_count": null,
      "outputs": [
        {
          "output_type": "stream",
          "name": "stdout",
          "text": [
            "Enter your number: 1\n",
            "Prime number\n"
          ]
        }
      ]
    },
    {
      "cell_type": "code",
      "source": [
        "#Nested If statement\n",
        "\n",
        "a= int(input(\"Enter your number: \"))\n",
        "if (a<0):\n",
        " print(\"Negative\")\n",
        "elif (a<30):\n",
        "  if(a<=10):\n",
        "    print(\"Number is between 1-10\")\n",
        "  else:\n",
        "    print(\"Don't know the number\")\n",
        "else:\n",
        "  print(\"Positive\")"
      ],
      "metadata": {
        "colab": {
          "base_uri": "https://localhost:8080/"
        },
        "id": "4jFSsd_9DV-b",
        "outputId": "ee1fcb61-d858-4db0-c705-5bb03110d0c5"
      },
      "execution_count": null,
      "outputs": [
        {
          "output_type": "stream",
          "name": "stdout",
          "text": [
            "Enter your number: 45\n",
            "Positive\n"
          ]
        }
      ]
    },
    {
      "cell_type": "code",
      "source": [
        "# Defining the variable\n",
        "day = int(input(\"Enter the number if your day: \"))\n",
        "\n",
        "# Using match case statement\n",
        "match day:\n",
        "    case 1:\n",
        "        print(\"Monday\")\n",
        "    case 2:\n",
        "        print(\"Tuesday\")\n",
        "    case 3:\n",
        "        print(\"Wednesday\")\n",
        "    case 4:\n",
        "        print(\"Thursday\")\n",
        "    case 5:\n",
        "        print(\"Friday\")\n",
        "    case 6:\n",
        "        print(\"Saturday\")\n",
        "    case 7:\n",
        "        print(\"Sunday\")\n",
        "    case _:\n",
        "        print(\"Not a valid day\")"
      ],
      "metadata": {
        "id": "v_npPsA3Kx8W",
        "colab": {
          "base_uri": "https://localhost:8080/"
        },
        "outputId": "94ce9a4e-9ff0-485f-9171-ebc0566ff452"
      },
      "execution_count": null,
      "outputs": [
        {
          "output_type": "stream",
          "name": "stdout",
          "text": [
            "Enter the number if your day: 9\n",
            "Not a valid day\n"
          ]
        }
      ]
    },
    {
      "cell_type": "code",
      "source": [
        "#Error handling using try except\n",
        "try:\n",
        "  a=int(input(\"Enter a number: \"))\n",
        "  b=int(input(\"Enter another number: \"))\n",
        "  result= a+b\n",
        "  print(\"Sum is:\", result)\n",
        "except Exception as e:\n",
        "  print(e)\n",
        "\n"
      ],
      "metadata": {
        "id": "7uUNee_jT6Fg",
        "colab": {
          "base_uri": "https://localhost:8080/"
        },
        "outputId": "552fc598-0776-44d6-81d3-7a604b6f50e8"
      },
      "execution_count": null,
      "outputs": [
        {
          "output_type": "stream",
          "name": "stdout",
          "text": [
            "Enter a number: jnj\n",
            "invalid literal for int() with base 10: 'jnj'\n"
          ]
        }
      ]
    },
    {
      "cell_type": "code",
      "source": [
        "# user input\n",
        "\n",
        "\n",
        "# try block\n",
        "try:\n",
        "    num1 = int(input(\"Enter the first number: \"))\n",
        "    num2 = int(input(\"Enter the second number: \"))\n",
        "    result = num1 / num2\n",
        "    print(\"The result is:\", result)\n",
        "\n",
        "# except blocks\n",
        "except ZeroDivisionError:\n",
        "    print(\"Error: Cannot divide by zero\")\n",
        "except ValueError:\n",
        "    print(\"Error: Invalid input\")"
      ],
      "metadata": {
        "colab": {
          "base_uri": "https://localhost:8080/"
        },
        "id": "GsAhnKpOZPFM",
        "outputId": "30a43455-7cb0-4116-e024-74a67cd33b83"
      },
      "execution_count": null,
      "outputs": [
        {
          "output_type": "stream",
          "name": "stdout",
          "text": [
            "Enter the first number: 5\n",
            "Enter the second number: 0\n",
            "Error: Cannot divide by zero\n"
          ]
        }
      ]
    },
    {
      "cell_type": "code",
      "source": [
        "# Use of 'finally' keyword\n",
        "\n",
        "def func1():\n",
        "  try:\n",
        "    lists=[1,3,5,7,9]\n",
        "    i= int(input(\"Enter the index: \"))\n",
        "    print(lists[i])\n",
        "    return(0)\n",
        "  except:\n",
        "    print(\"Some error occured\")\n",
        "\n",
        "  finally:\n",
        "    print(\"this will print\")\n",
        "\n",
        "\n",
        "x= func1()\n",
        "print(x)\n",
        "\n",
        "\n",
        "\n",
        "\n"
      ],
      "metadata": {
        "id": "PGty4GY5awUu",
        "colab": {
          "base_uri": "https://localhost:8080/"
        },
        "outputId": "f702bcf9-7a0d-418f-9cbf-e0cd0987ec05"
      },
      "execution_count": 14,
      "outputs": [
        {
          "output_type": "stream",
          "name": "stdout",
          "text": [
            "Enter the index: 4\n",
            "9\n",
            "this will print\n",
            "0\n"
          ]
        }
      ]
    },
    {
      "cell_type": "code",
      "source": [
        " print(\"Some error occured\")"
      ],
      "metadata": {
        "colab": {
          "base_uri": "https://localhost:8080/"
        },
        "id": "lLMbqepObJg1",
        "outputId": "3d256ab4-795f-4a6c-f757-8af39b8befa5"
      },
      "execution_count": 5,
      "outputs": [
        {
          "output_type": "stream",
          "name": "stdout",
          "text": [
            "Some error occured\n"
          ]
        }
      ]
    },
    {
      "cell_type": "code",
      "source": [],
      "metadata": {
        "id": "2j_3HpVObZHE"
      },
      "execution_count": null,
      "outputs": []
    }
  ]
}