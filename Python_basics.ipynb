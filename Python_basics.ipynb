{
  "nbformat": 4,
  "nbformat_minor": 0,
  "metadata": {
    "colab": {
      "provenance": [],
      "authorship_tag": "ABX9TyMqNlXOjZwCdOUH6gEkkG1n",
      "include_colab_link": true
    },
    "kernelspec": {
      "name": "python3",
      "display_name": "Python 3"
    },
    "language_info": {
      "name": "python"
    }
  },
  "cells": [
    {
      "cell_type": "markdown",
      "metadata": {
        "id": "view-in-github",
        "colab_type": "text"
      },
      "source": [
        "<a href=\"https://colab.research.google.com/github/tanishqaa26/Python-Basics/blob/main/Python_basics.ipynb\" target=\"_parent\"><img src=\"https://colab.research.google.com/assets/colab-badge.svg\" alt=\"Open In Colab\"/></a>"
      ]
    },
    {
      "cell_type": "code",
      "execution_count": null,
      "metadata": {
        "colab": {
          "base_uri": "https://localhost:8080/"
        },
        "id": "30eTeZPRxfzi",
        "outputId": "ae1269d3-e8e1-4b8c-e706-7339bb15893e"
      },
      "outputs": [
        {
          "output_type": "stream",
          "name": "stdout",
          "text": [
            "Hello World\n"
          ]
        }
      ],
      "source": [
        "print(\"Hello World\")"
      ]
    },
    {
      "cell_type": "code",
      "source": [
        "print(\"Python Basics\")"
      ],
      "metadata": {
        "colab": {
          "base_uri": "https://localhost:8080/"
        },
        "id": "7heClOsvyxAo",
        "outputId": "834c987a-07e1-45e2-b7fb-1b2fcb951b49"
      },
      "execution_count": null,
      "outputs": [
        {
          "output_type": "stream",
          "name": "stdout",
          "text": [
            "Python Basics\n"
          ]
        }
      ]
    },
    {
      "cell_type": "code",
      "source": [
        "\"\"\"\n",
        "This\n",
        "is a\n",
        "comment\n",
        "\"\"\""
      ],
      "metadata": {
        "colab": {
          "base_uri": "https://localhost:8080/",
          "height": 35
        },
        "id": "DmQ1MeL8y0oS",
        "outputId": "d487a967-b84f-4d61-a61a-b3f63783c622"
      },
      "execution_count": null,
      "outputs": [
        {
          "output_type": "execute_result",
          "data": {
            "text/plain": [
              "'\\nThis \\nis a \\ncomment \\n'"
            ],
            "application/vnd.google.colaboratory.intrinsic+json": {
              "type": "string"
            }
          },
          "metadata": {},
          "execution_count": 3
        }
      ]
    },
    {
      "cell_type": "code",
      "source": [
        "x= 23"
      ],
      "metadata": {
        "id": "FkP7qOfG2fdx"
      },
      "execution_count": null,
      "outputs": []
    },
    {
      "cell_type": "code",
      "source": [
        "print(x)"
      ],
      "metadata": {
        "colab": {
          "base_uri": "https://localhost:8080/"
        },
        "id": "up79FQX42h5A",
        "outputId": "0e67a11c-37c2-4bdd-edd9-39ccee4253ab"
      },
      "execution_count": null,
      "outputs": [
        {
          "output_type": "stream",
          "name": "stdout",
          "text": [
            "23\n"
          ]
        }
      ]
    },
    {
      "cell_type": "code",
      "source": [
        "type(x)"
      ],
      "metadata": {
        "colab": {
          "base_uri": "https://localhost:8080/"
        },
        "id": "6rxvigrg2tXg",
        "outputId": "94565945-82fb-4e80-e3a1-768eef8d52e8"
      },
      "execution_count": null,
      "outputs": [
        {
          "output_type": "execute_result",
          "data": {
            "text/plain": [
              "int"
            ]
          },
          "metadata": {},
          "execution_count": 6
        }
      ]
    },
    {
      "cell_type": "code",
      "source": [
        "var1= complex(3,1)"
      ],
      "metadata": {
        "id": "kQBGVx-K2v7S"
      },
      "execution_count": null,
      "outputs": []
    },
    {
      "cell_type": "code",
      "source": [
        "print(var1, type(var1))"
      ],
      "metadata": {
        "colab": {
          "base_uri": "https://localhost:8080/"
        },
        "id": "1L5IaB0l3moS",
        "outputId": "7561a127-dca3-4a21-d7e3-506c28e128db"
      },
      "execution_count": null,
      "outputs": [
        {
          "output_type": "stream",
          "name": "stdout",
          "text": [
            "(3+1j) <class 'complex'>\n"
          ]
        }
      ]
    },
    {
      "cell_type": "code",
      "source": [
        "x= bool(x>5)"
      ],
      "metadata": {
        "id": "OofLzke63sJq"
      },
      "execution_count": null,
      "outputs": []
    },
    {
      "cell_type": "code",
      "source": [
        "print(x)"
      ],
      "metadata": {
        "colab": {
          "base_uri": "https://localhost:8080/"
        },
        "id": "ewEv08Wz5eF-",
        "outputId": "998949de-1ee6-4532-d71d-b19c761172de"
      },
      "execution_count": null,
      "outputs": [
        {
          "output_type": "stream",
          "name": "stdout",
          "text": [
            "True\n"
          ]
        }
      ]
    },
    {
      "cell_type": "code",
      "source": [
        "list= [1,2,3,4,5]"
      ],
      "metadata": {
        "id": "Zwk-XwVE5g1l"
      },
      "execution_count": null,
      "outputs": []
    },
    {
      "cell_type": "code",
      "source": [
        "print(list)"
      ],
      "metadata": {
        "colab": {
          "base_uri": "https://localhost:8080/"
        },
        "id": "GgWWwpHN6E3S",
        "outputId": "322e1136-c983-4851-d9b8-7a609a5d9948"
      },
      "execution_count": null,
      "outputs": [
        {
          "output_type": "stream",
          "name": "stdout",
          "text": [
            "[1, 2, 3, 4, 5]\n"
          ]
        }
      ]
    },
    {
      "cell_type": "code",
      "source": [
        "tuple=(1,2,3,4,5)"
      ],
      "metadata": {
        "id": "qmtnjfrg6Gb8"
      },
      "execution_count": null,
      "outputs": []
    },
    {
      "cell_type": "code",
      "source": [
        "print(tuple)"
      ],
      "metadata": {
        "colab": {
          "base_uri": "https://localhost:8080/"
        },
        "id": "hGgEj_8T6RTz",
        "outputId": "a3dbb257-9b40-49b0-8d11-b769f98b40c3"
      },
      "execution_count": null,
      "outputs": [
        {
          "output_type": "stream",
          "name": "stdout",
          "text": [
            "(1, 2, 3, 4, 5)\n"
          ]
        }
      ]
    },
    {
      "cell_type": "code",
      "source": [
        "tuple=(\"apple\",\"banana\")"
      ],
      "metadata": {
        "id": "ephVJhJr6TZ-"
      },
      "execution_count": null,
      "outputs": []
    },
    {
      "cell_type": "code",
      "source": [
        "print(tuple)"
      ],
      "metadata": {
        "colab": {
          "base_uri": "https://localhost:8080/"
        },
        "id": "TWNIEHCM6ZKC",
        "outputId": "860038c5-be77-4aa6-da1f-0a87e742ae76"
      },
      "execution_count": null,
      "outputs": [
        {
          "output_type": "stream",
          "name": "stdout",
          "text": [
            "('apple', 'banana')\n"
          ]
        }
      ]
    },
    {
      "cell_type": "code",
      "source": [
        "dict= {\"name\":\"tanu\",\"age\":\"22\"}"
      ],
      "metadata": {
        "id": "TTT6ZFTs6a01"
      },
      "execution_count": null,
      "outputs": []
    },
    {
      "cell_type": "code",
      "source": [
        "print(dict)"
      ],
      "metadata": {
        "id": "8Ac7Msrh7fC6",
        "outputId": "fc497e19-df1f-48db-b161-840d7ce8b388",
        "colab": {
          "base_uri": "https://localhost:8080/"
        }
      },
      "execution_count": null,
      "outputs": [
        {
          "output_type": "stream",
          "name": "stdout",
          "text": [
            "{'name': 'tanu', 'age': '22'}\n"
          ]
        }
      ]
    },
    {
      "cell_type": "code",
      "source": [
        "#Explicit type casting"
      ],
      "metadata": {
        "id": "ybMFszDd3x3A"
      },
      "execution_count": null,
      "outputs": []
    },
    {
      "cell_type": "code",
      "source": [
        "a=\"1\"\n",
        "b=2\n",
        "# print(int(a)+ b)"
      ],
      "metadata": {
        "id": "rM2gYwel7g0j"
      },
      "execution_count": null,
      "outputs": []
    },
    {
      "cell_type": "code",
      "source": [
        "c= int(a)\n",
        "sum= b+c\n",
        "print(\"The sum of both number is: \",sum)"
      ],
      "metadata": {
        "colab": {
          "base_uri": "https://localhost:8080/"
        },
        "id": "cE6uyCPyzX3N",
        "outputId": "2842d27f-3c16-4c0f-a160-ab72b87cec6a"
      },
      "execution_count": null,
      "outputs": [
        {
          "output_type": "stream",
          "name": "stdout",
          "text": [
            "The sum of both number is:  3\n"
          ]
        }
      ]
    },
    {
      "cell_type": "code",
      "source": [
        "#Implicit Type casting"
      ],
      "metadata": {
        "id": "m29Uo5t51XkH"
      },
      "execution_count": null,
      "outputs": []
    },
    {
      "cell_type": "code",
      "source": [
        "a=0.09\n",
        "b=1\n",
        "c=\"22\"\n",
        "sum=a+b+float(c)\n",
        "print(sum)\n",
        "print(type(a),type(b),type(c))"
      ],
      "metadata": {
        "colab": {
          "base_uri": "https://localhost:8080/"
        },
        "id": "df3xkLgc34-y",
        "outputId": "8197eef9-091e-4407-cdab-760decab13a0"
      },
      "execution_count": null,
      "outputs": [
        {
          "output_type": "stream",
          "name": "stdout",
          "text": [
            "23.09\n",
            "<class 'float'> <class 'int'> <class 'str'>\n"
          ]
        }
      ]
    },
    {
      "cell_type": "code",
      "source": [
        "#defining a new function\n",
        "def maths():\n",
        " print(\"this is a new function\")"
      ],
      "metadata": {
        "id": "oWu0oDqZ4H3c"
      },
      "execution_count": null,
      "outputs": []
    },
    {
      "cell_type": "code",
      "source": [
        "maths()"
      ],
      "metadata": {
        "colab": {
          "base_uri": "https://localhost:8080/"
        },
        "id": "znYjpIZ0CPSm",
        "outputId": "40a76298-ae02-476b-a7b8-b46893699ec6"
      },
      "execution_count": null,
      "outputs": [
        {
          "output_type": "stream",
          "name": "stdout",
          "text": [
            "this is a new function\n"
          ]
        }
      ]
    },
    {
      "cell_type": "code",
      "source": [
        "def mathsIsbest():\n",
        "  pass"
      ],
      "metadata": {
        "id": "cC0tgrLAD5eJ"
      },
      "execution_count": null,
      "outputs": []
    },
    {
      "cell_type": "code",
      "source": [
        "a=100\n",
        "b=98\n",
        "if(a<b):\n",
        " print(maths())\n",
        "else:\n",
        "    print(\"false\")\n"
      ],
      "metadata": {
        "colab": {
          "base_uri": "https://localhost:8080/"
        },
        "id": "7rIML3L-CfcT",
        "outputId": "040d4491-31bd-4324-8787-3c38dc00a715"
      },
      "execution_count": null,
      "outputs": [
        {
          "output_type": "stream",
          "name": "stdout",
          "text": [
            "false\n"
          ]
        }
      ]
    },
    {
      "cell_type": "code",
      "source": [
        "def my_function(verb):\n",
        "  print(verb + \" python\")\n",
        "\n",
        "my_function(\"learn\")\n",
        "my_function(\"play\")\n",
        "my_function(\"see\")\n"
      ],
      "metadata": {
        "id": "Oo26AiytDNhj",
        "colab": {
          "base_uri": "https://localhost:8080/"
        },
        "outputId": "84232edc-aa1b-44d1-acb8-0077e56f1de1"
      },
      "execution_count": null,
      "outputs": [
        {
          "output_type": "stream",
          "name": "stdout",
          "text": [
            "learn python\n",
            "play python\n",
            "see python\n"
          ]
        }
      ]
    },
    {
      "cell_type": "code",
      "source": [
        "#function with variable length arguments\n",
        "def my_function(*kid):\n",
        "  print(\"His last name is \" + kid[0])\n",
        "\n",
        "my_function(\"tanu\",  \"soni\", \"two\" ,\"shubh\")"
      ],
      "metadata": {
        "colab": {
          "base_uri": "https://localhost:8080/"
        },
        "id": "L_jD05StqBZT",
        "outputId": "09a1ed56-a55f-4d47-b636-a6b7160c03d1"
      },
      "execution_count": null,
      "outputs": [
        {
          "output_type": "stream",
          "name": "stdout",
          "text": [
            "His last name is tanu\n"
          ]
        }
      ]
    },
    {
      "cell_type": "code",
      "source": [
        "#function with kwargs arguments\n",
        "def my_function(**kid):\n",
        "  print(\"Her first name is \" + kid[\"fname\"])\n",
        "\n",
        "my_function(fname=\"tanu\",)"
      ],
      "metadata": {
        "colab": {
          "base_uri": "https://localhost:8080/"
        },
        "id": "-t_LlBRFxEkO",
        "outputId": "ce96f79e-9419-4fb7-c3f4-a0a189ed4043"
      },
      "execution_count": null,
      "outputs": [
        {
          "output_type": "stream",
          "name": "stdout",
          "text": [
            "Her first name is tanu\n"
          ]
        }
      ]
    },
    {
      "cell_type": "code",
      "source": [
        "#create a calculator\n",
        "a= 90\n",
        "b=5\n",
        "print(\"The value of\",a,\"+\" , b,\"is\", a+b)\n",
        "print(\"The value of\",a,\"-\" , b,\"is\", a-b)\n",
        "print(\"The value of\",a,\"*\" , b,\"is\", a*b)\n",
        "print(\"The value of\",a,\"/\" , b,\"is\", a/b)"
      ],
      "metadata": {
        "colab": {
          "base_uri": "https://localhost:8080/"
        },
        "id": "uXi_UCUW1HjD",
        "outputId": "7aceed43-b48d-4ef0-baf4-c3bc8c139ea2"
      },
      "execution_count": null,
      "outputs": [
        {
          "output_type": "stream",
          "name": "stdout",
          "text": [
            "The value of 90 + 5 is 95\n",
            "The value of 90 - 5 is 85\n",
            "The value of 90 * 5 is 450\n",
            "The value of 90 / 5 is 18.0\n"
          ]
        }
      ]
    },
    {
      "cell_type": "code",
      "source": [
        "a=int(input(\"Enter the first number:\"))\n",
        "b=int(input(\"Enter the second number:\"))\n",
        "print(\"Sum is \", a + b)\n",
        "print(\"Difference is \", a - b)\n",
        "print(\"Product is \", a * b)\n",
        "print(\"Quotient when % is zero is \", a / b)"
      ],
      "metadata": {
        "colab": {
          "base_uri": "https://localhost:8080/"
        },
        "id": "hOMDSxmy7v8h",
        "outputId": "5d5175d0-d1d4-4aee-bc09-80eb372ad15f"
      },
      "execution_count": null,
      "outputs": [
        {
          "output_type": "stream",
          "name": "stdout",
          "text": [
            "Enter the first number:45556\n",
            "Enter the second number:54665\n",
            "Sum is  100221\n",
            "Difference is  -9109\n",
            "Product is  2490318740\n",
            "Quotient when % is zero is  0.8333668709411872\n"
          ]
        }
      ]
    },
    {
      "cell_type": "code",
      "source": [
        "#Conditional Statements\n",
        "\n",
        "age=180\n",
        "if (age>18):\n",
        " print(\"You're an adult\")"
      ],
      "metadata": {
        "id": "m9l8LR1dDJ9u",
        "colab": {
          "base_uri": "https://localhost:8080/"
        },
        "outputId": "469619f9-8cd0-4341-da28-19022872d983"
      },
      "execution_count": null,
      "outputs": [
        {
          "output_type": "stream",
          "name": "stdout",
          "text": [
            "You're an adult\n"
          ]
        }
      ]
    },
    {
      "cell_type": "code",
      "source": [
        "age=10\n",
        "if (age>18):\n",
        " print(\"You're an adult\")\n",
        "else:\n",
        "  print(\"No you're not\")"
      ],
      "metadata": {
        "colab": {
          "base_uri": "https://localhost:8080/"
        },
        "id": "HssJotSX-K0z",
        "outputId": "def33a13-f85b-43b1-8d9a-cec8a81a8799"
      },
      "execution_count": null,
      "outputs": [
        {
          "output_type": "stream",
          "name": "stdout",
          "text": [
            "No you're not\n"
          ]
        }
      ]
    },
    {
      "cell_type": "code",
      "source": [
        "a= int(input(\"Enter your age: \"))\n",
        "if (age>18):\n",
        " print(\"You're an adult\")\n",
        "else:\n",
        "  print(\"No you're not an adult\")"
      ],
      "metadata": {
        "colab": {
          "base_uri": "https://localhost:8080/"
        },
        "id": "BqGvg6xd-w0p",
        "outputId": "2f6c4f0a-ad2c-4523-b6b5-6a58dfd16f34"
      },
      "execution_count": null,
      "outputs": [
        {
          "output_type": "stream",
          "name": "stdout",
          "text": [
            "Enter your age: 5\n",
            "No you're not an adult\n"
          ]
        }
      ]
    },
    {
      "cell_type": "code",
      "source": [
        "time = 19\n",
        "if time < 12:\n",
        "  print(\"Good morning\")\n",
        "elif time >=12 and time < 18:\n",
        "  print(\"Good afternoon\")\n",
        "else:\n",
        "  print(\"Good evening\")"
      ],
      "metadata": {
        "colab": {
          "base_uri": "https://localhost:8080/"
        },
        "id": "CdUI4QQWAzCY",
        "outputId": "1114c19f-a54c-4822-e893-5e7bf75f74f1"
      },
      "execution_count": null,
      "outputs": [
        {
          "output_type": "stream",
          "name": "stdout",
          "text": [
            "Good evening\n"
          ]
        }
      ]
    },
    {
      "cell_type": "code",
      "source": [
        "a= int(input(\"Enter your number: \"))\n",
        "if (a<0):\n",
        " print(\"Negative\")\n",
        "elif (a==0):\n",
        "  print(\"Zero\")\n",
        "elif (a!=0 and a<2):\n",
        "  print(\"Prime number\")\n",
        "else:\n",
        "  print(\"Positive\")"
      ],
      "metadata": {
        "colab": {
          "base_uri": "https://localhost:8080/"
        },
        "id": "ql0NQvm7C4Qr",
        "outputId": "0e401c0b-7b7f-4f78-c0a7-ff75236686e7"
      },
      "execution_count": null,
      "outputs": [
        {
          "output_type": "stream",
          "name": "stdout",
          "text": [
            "Enter your number: 1\n",
            "Prime number\n"
          ]
        }
      ]
    },
    {
      "cell_type": "code",
      "source": [
        "#Nested If statement\n",
        "\n",
        "a= int(input(\"Enter your number: \"))\n",
        "if (a<0):\n",
        " print(\"Negative\")\n",
        "elif (a<30):\n",
        "j\n",
        "  if(a<=10):\n",
        "    print(\"Number is between 1-10\")\n",
        "  else:\n",
        "    print(\"Don't know the number\")\n",
        "else:\n",
        "  print(\"Positive\")"
      ],
      "metadata": {
        "colab": {
          "base_uri": "https://localhost:8080/"
        },
        "id": "4jFSsd_9DV-b",
        "outputId": "ee1fcb61-d858-4db0-c705-5bb03110d0c5"
      },
      "execution_count": null,
      "outputs": [
        {
          "output_type": "stream",
          "name": "stdout",
          "text": [
            "Enter your number: 45\n",
            "Positive\n"
          ]
        }
      ]
    },
    {
      "cell_type": "code",
      "source": [
        "# Defining the variable\n",
        "day = int(input(\"Enter the number if your day: \"))\n",
        "\n",
        "# Using match case statement\n",
        "match day:\n",
        "    case 1:\n",
        "        print(\"Monday\")\n",
        "    case 2:\n",
        "        print(\"Tuesday\")\n",
        "    case 3:\n",
        "        print(\"Wednesday\")\n",
        "    case 4:\n",
        "        print(\"Thursday\")\n",
        "    case 5:\n",
        "        print(\"Friday\")\n",
        "    case 6:\n",
        "        print(\"Saturday\")\n",
        "    case 7:\n",
        "        print(\"Sunday\")\n",
        "    case _:\n",
        "        print(\"Not a valid day\")"
      ],
      "metadata": {
        "id": "v_npPsA3Kx8W",
        "colab": {
          "base_uri": "https://localhost:8080/"
        },
        "outputId": "94ce9a4e-9ff0-485f-9171-ebc0566ff452"
      },
      "execution_count": null,
      "outputs": [
        {
          "output_type": "stream",
          "name": "stdout",
          "text": [
            "Enter the number if your day: 9\n",
            "Not a valid day\n"
          ]
        }
      ]
    },
    {
      "cell_type": "code",
      "source": [
        "#Error handling using try except\n",
        "try:\n",
        "  a=int(input(\"Enter a number: \"))\n",
        "  b=int(input(\"Enter another number: \"))\n",
        "  result= a+b\n",
        "  print(\"Sum is:\", result)\n",
        "except Exception as e:\n",
        "  print(e)\n",
        "\n"
      ],
      "metadata": {
        "id": "7uUNee_jT6Fg",
        "colab": {
          "base_uri": "https://localhost:8080/"
        },
        "outputId": "552fc598-0776-44d6-81d3-7a604b6f50e8"
      },
      "execution_count": null,
      "outputs": [
        {
          "output_type": "stream",
          "name": "stdout",
          "text": [
            "Enter a number: jnj\n",
            "invalid literal for int() with base 10: 'jnj'\n"
          ]
        }
      ]
    },
    {
      "cell_type": "code",
      "source": [
        "# user input\n",
        "\n",
        "\n",
        "# try block\n",
        "try:\n",
        "    num1 = int(input(\"Enter the first number: \"))\n",
        "    num2 = int(input(\"Enter the second number: \"))\n",
        "    result = num1 / num2\n",
        "    print(\"The result is:\", result)\n",
        "\n",
        "# except blocks\n",
        "except ZeroDivisionError:\n",
        "    print(\"Error: Cannot divide by zero\")\n",
        "except ValueError:\n",
        "    print(\"Error: Invalid input\")"
      ],
      "metadata": {
        "colab": {
          "base_uri": "https://localhost:8080/"
        },
        "id": "GsAhnKpOZPFM",
        "outputId": "30a43455-7cb0-4116-e024-74a67cd33b83"
      },
      "execution_count": null,
      "outputs": [
        {
          "output_type": "stream",
          "name": "stdout",
          "text": [
            "Enter the first number: 5\n",
            "Enter the second number: 0\n",
            "Error: Cannot divide by zero\n"
          ]
        }
      ]
    },
    {
      "cell_type": "code",
      "source": [
        "# Use of 'finally' keyword\n",
        "\n"
      ],
      "metadata": {
        "id": "PGty4GY5awUu"
      },
      "execution_count": null,
      "outputs": []
    },
    {
      "cell_type": "code",
      "source": [
        "# Iterators\n",
        "mytuple = (\"apple\", \"banana\", \"cherry\")\n",
        "myit = iter(mytuple)\n",
        "\n",
        "print(next(myit))\n",
        "print(next(myit))\n",
        "print(next(myit))"
      ],
      "metadata": {
        "id": "2p2TQtFpvXR6",
        "colab": {
          "base_uri": "https://localhost:8080/"
        },
        "outputId": "83a7c13e-a60b-4692-89aa-94c35a0f4788"
      },
      "execution_count": null,
      "outputs": [
        {
          "output_type": "stream",
          "name": "stdout",
          "text": [
            "apple\n",
            "banana\n",
            "cherry\n"
          ]
        }
      ]
    },
    {
      "cell_type": "code",
      "source": [
        "# for loops in strings\n",
        "string= \"Hello world\"\n",
        "for letter in string:\n",
        "    print(letter)"
      ],
      "metadata": {
        "colab": {
          "base_uri": "https://localhost:8080/"
        },
        "id": "eK3dmDZBAISS",
        "outputId": "fe80877b-921f-4738-b564-b7d0349766d2"
      },
      "execution_count": null,
      "outputs": [
        {
          "output_type": "stream",
          "name": "stdout",
          "text": [
            "H\n",
            "e\n",
            "l\n",
            "l\n",
            "o\n",
            " \n",
            "w\n",
            "o\n",
            "r\n",
            "l\n",
            "d\n"
          ]
        }
      ]
    },
    {
      "cell_type": "code",
      "source": [
        "# for loops in lists\n",
        "colors= [\"red\",\"blue\",\"green\"]\n",
        "for color in colors:\n",
        "  print(color)"
      ],
      "metadata": {
        "colab": {
          "base_uri": "https://localhost:8080/"
        },
        "id": "m3pJ0K6oCQzj",
        "outputId": "2cfe39b4-103d-4956-d341-f72910c4231d"
      },
      "execution_count": null,
      "outputs": [
        {
          "output_type": "stream",
          "name": "stdout",
          "text": [
            "red\n",
            "blue\n",
            "green\n"
          ]
        }
      ]
    },
    {
      "cell_type": "code",
      "source": [
        "# for loops in lists\n",
        "colors= [\"red\",\"blue\",\"green\"]\n",
        "for color in colors:\n",
        "  print(color)\n",
        "  for letter in color:\n",
        "    print(letter)"
      ],
      "metadata": {
        "colab": {
          "base_uri": "https://localhost:8080/"
        },
        "id": "ACAKnrMUFLN9",
        "outputId": "5fd24a69-7643-4396-87ef-2ede91656a12"
      },
      "execution_count": null,
      "outputs": [
        {
          "output_type": "stream",
          "name": "stdout",
          "text": [
            "red\n",
            "r\n",
            "e\n",
            "d\n",
            "blue\n",
            "b\n",
            "l\n",
            "u\n",
            "e\n",
            "green\n",
            "g\n",
            "r\n",
            "e\n",
            "e\n",
            "n\n"
          ]
        }
      ]
    },
    {
      "cell_type": "code",
      "source": [
        "# for loops in range\n",
        "for i in range(10):\n",
        "  print(i)"
      ],
      "metadata": {
        "colab": {
          "base_uri": "https://localhost:8080/"
        },
        "id": "3HzTF8EeFZrE",
        "outputId": "c08c194a-be29-4387-bb6f-81b962ae5ecc"
      },
      "execution_count": null,
      "outputs": [
        {
          "output_type": "stream",
          "name": "stdout",
          "text": [
            "0\n",
            "1\n",
            "2\n",
            "3\n",
            "4\n",
            "5\n",
            "6\n",
            "7\n",
            "8\n",
            "9\n"
          ]
        }
      ]
    },
    {
      "cell_type": "code",
      "source": [
        "# for loops in range\n",
        "for i in range(1,100):\n",
        "  print(i)"
      ],
      "metadata": {
        "colab": {
          "base_uri": "https://localhost:8080/"
        },
        "id": "riS5TmrSGZBr",
        "outputId": "50ba6413-d818-4e57-bb7f-557f4ab6fa8f"
      },
      "execution_count": null,
      "outputs": [
        {
          "output_type": "stream",
          "name": "stdout",
          "text": [
            "1\n",
            "2\n",
            "3\n",
            "4\n",
            "5\n",
            "6\n",
            "7\n",
            "8\n",
            "9\n",
            "10\n",
            "11\n",
            "12\n",
            "13\n",
            "14\n",
            "15\n",
            "16\n",
            "17\n",
            "18\n",
            "19\n",
            "20\n",
            "21\n",
            "22\n",
            "23\n",
            "24\n",
            "25\n",
            "26\n",
            "27\n",
            "28\n",
            "29\n",
            "30\n",
            "31\n",
            "32\n",
            "33\n",
            "34\n",
            "35\n",
            "36\n",
            "37\n",
            "38\n",
            "39\n",
            "40\n",
            "41\n",
            "42\n",
            "43\n",
            "44\n",
            "45\n",
            "46\n",
            "47\n",
            "48\n",
            "49\n",
            "50\n",
            "51\n",
            "52\n",
            "53\n",
            "54\n",
            "55\n",
            "56\n",
            "57\n",
            "58\n",
            "59\n",
            "60\n",
            "61\n",
            "62\n",
            "63\n",
            "64\n",
            "65\n",
            "66\n",
            "67\n",
            "68\n",
            "69\n",
            "70\n",
            "71\n",
            "72\n",
            "73\n",
            "74\n",
            "75\n",
            "76\n",
            "77\n",
            "78\n",
            "79\n",
            "80\n",
            "81\n",
            "82\n",
            "83\n",
            "84\n",
            "85\n",
            "86\n",
            "87\n",
            "88\n",
            "89\n",
            "90\n",
            "91\n",
            "92\n",
            "93\n",
            "94\n",
            "95\n",
            "96\n",
            "97\n",
            "98\n",
            "99\n"
          ]
        }
      ]
    },
    {
      "cell_type": "code",
      "source": [
        "a= \"sorry\"\n",
        "for a in range(10):\n",
        "  print(a)"
      ],
      "metadata": {
        "colab": {
          "base_uri": "https://localhost:8080/"
        },
        "id": "ljX1bbeEGnAu",
        "outputId": "40cf07aa-0bfc-46ef-c7d3-bddcc07f2f8e"
      },
      "execution_count": null,
      "outputs": [
        {
          "output_type": "stream",
          "name": "stdout",
          "text": [
            "0\n",
            "1\n",
            "2\n",
            "3\n",
            "4\n",
            "5\n",
            "6\n",
            "7\n",
            "8\n",
            "9\n"
          ]
        }
      ]
    },
    {
      "cell_type": "code",
      "source": [
        "# step\n",
        "for k in range(1,20,2):\n",
        "  print(k)"
      ],
      "metadata": {
        "colab": {
          "base_uri": "https://localhost:8080/"
        },
        "id": "3BTsJ5eaG8Bj",
        "outputId": "ef9b39b1-9b09-4f5a-fe86-6bc0bdffb94b"
      },
      "execution_count": null,
      "outputs": [
        {
          "output_type": "stream",
          "name": "stdout",
          "text": [
            "1\n",
            "3\n",
            "5\n",
            "7\n",
            "9\n",
            "11\n",
            "13\n",
            "15\n",
            "17\n",
            "19\n"
          ]
        }
      ]
    },
    {
      "cell_type": "code",
      "source": [
        "a= [\"sorry\",\"sorry\"]\n",
        "for b in a:\n",
        "  print(b,b*5)"
      ],
      "metadata": {
        "colab": {
          "base_uri": "https://localhost:8080/"
        },
        "id": "lG-FzxEaH_G6",
        "outputId": "eb61267a-1dec-43e6-fec7-b939f5d04514"
      },
      "execution_count": null,
      "outputs": [
        {
          "output_type": "stream",
          "name": "stdout",
          "text": [
            "sorry sorrysorrysorrysorrysorry\n",
            "sorry sorrysorrysorrysorrysorry\n"
          ]
        }
      ]
    },
    {
      "cell_type": "code",
      "source": [
        "# While loop\n",
        "count= 5\n",
        "while count>0:\n",
        "  print(count)\n",
        "  count= count-1\n",
        "else:\n",
        "  print(\"The loop is over\")\n"
      ],
      "metadata": {
        "id": "KEN71VzUI2AZ",
        "colab": {
          "base_uri": "https://localhost:8080/"
        },
        "outputId": "f8d7fc06-2cfe-4acb-f738-7df2ad11d87f"
      },
      "execution_count": null,
      "outputs": [
        {
          "output_type": "stream",
          "name": "stdout",
          "text": [
            "5\n",
            "4\n",
            "3\n",
            "2\n",
            "1\n",
            "The loop is over\n"
          ]
        }
      ]
    },
    {
      "cell_type": "code",
      "source": [
        "count=0\n",
        "while count<10:\n",
        "  print(\"Helloww\")\n",
        "  count+=1\n"
      ],
      "metadata": {
        "colab": {
          "base_uri": "https://localhost:8080/"
        },
        "id": "chxuDEqHnqI1",
        "outputId": "f9137bcc-128a-47be-9bb6-fb50a9e8669d"
      },
      "execution_count": null,
      "outputs": [
        {
          "output_type": "stream",
          "name": "stdout",
          "text": [
            "Helloww\n",
            "Helloww\n",
            "Helloww\n",
            "Helloww\n",
            "Helloww\n",
            "Helloww\n",
            "Helloww\n",
            "Helloww\n",
            "Helloww\n",
            "Helloww\n"
          ]
        }
      ]
    },
    {
      "cell_type": "code",
      "source": [
        "# break and continue statements\n",
        "for i in range(1,12):\n",
        "  if i==11:\n",
        "    break\n",
        "  print(i)\n",
        "\n"
      ],
      "metadata": {
        "id": "zUYbkjIootHC",
        "colab": {
          "base_uri": "https://localhost:8080/"
        },
        "outputId": "bdbd54b6-9187-4457-b2cf-3b880117b355"
      },
      "execution_count": null,
      "outputs": [
        {
          "output_type": "stream",
          "name": "stdout",
          "text": [
            "1\n",
            "2\n",
            "3\n",
            "4\n",
            "5\n",
            "6\n",
            "7\n",
            "8\n",
            "9\n",
            "10\n"
          ]
        }
      ]
    },
    {
      "cell_type": "code",
      "source": [
        "range=1,10\n",
        "while(range==5):\n",
        "  continue\n",
        "  print(range)\n"
      ],
      "metadata": {
        "id": "jXZB3Qj8niVn"
      },
      "execution_count": null,
      "outputs": []
    },
    {
      "cell_type": "code",
      "source": [
        "# break and continue statements\n",
        "for i in range(1,12):\n",
        "  if i/2==0:\n",
        "    print(\"Not divisible\")\n",
        "    continue\n",
        "  print(i)\n"
      ],
      "metadata": {
        "colab": {
          "base_uri": "https://localhost:8080/",
          "height": 211
        },
        "id": "CK85TAfQpFfv",
        "outputId": "b39d29e3-a3e2-424e-af53-21cc22a2740c"
      },
      "execution_count": null,
      "outputs": [
        {
          "output_type": "error",
          "ename": "TypeError",
          "evalue": "'tuple' object is not callable",
          "traceback": [
            "\u001b[0;31m---------------------------------------------------------------------------\u001b[0m",
            "\u001b[0;31mTypeError\u001b[0m                                 Traceback (most recent call last)",
            "\u001b[0;32m<ipython-input-20-c663170c8b33>\u001b[0m in \u001b[0;36m<cell line: 2>\u001b[0;34m()\u001b[0m\n\u001b[1;32m      1\u001b[0m \u001b[0;31m# break and continue statements\u001b[0m\u001b[0;34m\u001b[0m\u001b[0;34m\u001b[0m\u001b[0m\n\u001b[0;32m----> 2\u001b[0;31m \u001b[0;32mfor\u001b[0m \u001b[0mi\u001b[0m \u001b[0;32min\u001b[0m \u001b[0mrange\u001b[0m\u001b[0;34m(\u001b[0m\u001b[0;36m1\u001b[0m\u001b[0;34m,\u001b[0m\u001b[0;36m12\u001b[0m\u001b[0;34m)\u001b[0m\u001b[0;34m:\u001b[0m\u001b[0;34m\u001b[0m\u001b[0;34m\u001b[0m\u001b[0m\n\u001b[0m\u001b[1;32m      3\u001b[0m   \u001b[0;32mif\u001b[0m \u001b[0mi\u001b[0m\u001b[0;34m/\u001b[0m\u001b[0;36m2\u001b[0m\u001b[0;34m==\u001b[0m\u001b[0;36m0\u001b[0m\u001b[0;34m:\u001b[0m\u001b[0;34m\u001b[0m\u001b[0;34m\u001b[0m\u001b[0m\n\u001b[1;32m      4\u001b[0m     \u001b[0mprint\u001b[0m\u001b[0;34m(\u001b[0m\u001b[0;34m\"Not divisible\"\u001b[0m\u001b[0;34m)\u001b[0m\u001b[0;34m\u001b[0m\u001b[0;34m\u001b[0m\u001b[0m\n\u001b[1;32m      5\u001b[0m     \u001b[0;32mcontinue\u001b[0m\u001b[0;34m\u001b[0m\u001b[0;34m\u001b[0m\u001b[0m\n",
            "\u001b[0;31mTypeError\u001b[0m: 'tuple' object is not callable"
          ]
        }
      ]
    },
    {
      "cell_type": "code",
      "source": [
        "# continue\n",
        "for i in range(20):\n",
        "  if (i==10):\n",
        "    print(\"Skip this iteration\")\n",
        "    continue\n",
        "  print(\"next iterations\")"
      ],
      "metadata": {
        "colab": {
          "base_uri": "https://localhost:8080/",
          "height": 211
        },
        "id": "Mw7twHgyykJ6",
        "outputId": "54bfaec4-7fd8-494a-8988-a65b8f3f2a0a"
      },
      "execution_count": null,
      "outputs": [
        {
          "output_type": "error",
          "ename": "TypeError",
          "evalue": "'tuple' object is not callable",
          "traceback": [
            "\u001b[0;31m---------------------------------------------------------------------------\u001b[0m",
            "\u001b[0;31mTypeError\u001b[0m                                 Traceback (most recent call last)",
            "\u001b[0;32m<ipython-input-19-1dd095c751c0>\u001b[0m in \u001b[0;36m<cell line: 2>\u001b[0;34m()\u001b[0m\n\u001b[1;32m      1\u001b[0m \u001b[0;31m# continue\u001b[0m\u001b[0;34m\u001b[0m\u001b[0;34m\u001b[0m\u001b[0m\n\u001b[0;32m----> 2\u001b[0;31m \u001b[0;32mfor\u001b[0m \u001b[0mi\u001b[0m \u001b[0;32min\u001b[0m \u001b[0mrange\u001b[0m\u001b[0;34m(\u001b[0m\u001b[0;36m20\u001b[0m\u001b[0;34m)\u001b[0m\u001b[0;34m:\u001b[0m\u001b[0;34m\u001b[0m\u001b[0;34m\u001b[0m\u001b[0m\n\u001b[0m\u001b[1;32m      3\u001b[0m   \u001b[0;32mif\u001b[0m \u001b[0;34m(\u001b[0m\u001b[0mi\u001b[0m\u001b[0;34m==\u001b[0m\u001b[0;36m10\u001b[0m\u001b[0;34m)\u001b[0m\u001b[0;34m:\u001b[0m\u001b[0;34m\u001b[0m\u001b[0;34m\u001b[0m\u001b[0m\n\u001b[1;32m      4\u001b[0m     \u001b[0mprint\u001b[0m\u001b[0;34m(\u001b[0m\u001b[0;34m\"Skip this iteration\"\u001b[0m\u001b[0;34m)\u001b[0m\u001b[0;34m\u001b[0m\u001b[0;34m\u001b[0m\u001b[0m\n\u001b[1;32m      5\u001b[0m     \u001b[0;32mcontinue\u001b[0m\u001b[0;34m\u001b[0m\u001b[0;34m\u001b[0m\u001b[0m\n",
            "\u001b[0;31mTypeError\u001b[0m: 'tuple' object is not callable"
          ]
        }
      ]
    },
    {
      "cell_type": "code",
      "source": [
        "numu= [1,2,3,4,5]\n",
        "for num in numu:\n",
        "  print(num)"
      ],
      "metadata": {
        "id": "y0QmPndXziRX",
        "colab": {
          "base_uri": "https://localhost:8080/"
        },
        "outputId": "67b7d6b5-8381-42df-d080-31f2e46a6891"
      },
      "execution_count": null,
      "outputs": [
        {
          "output_type": "stream",
          "name": "stdout",
          "text": [
            "1\n",
            "2\n",
            "3\n",
            "4\n",
            "5\n"
          ]
        }
      ]
    },
    {
      "cell_type": "code",
      "source": [
        "numu= [\"sorry\"]\n",
        "for num in numu:\n",
        "  print(num*10)"
      ],
      "metadata": {
        "colab": {
          "base_uri": "https://localhost:8080/"
        },
        "id": "mF-IQhng49Zn",
        "outputId": "f9a63a24-4cba-46f5-ab73-7de0ce821518"
      },
      "execution_count": null,
      "outputs": [
        {
          "output_type": "stream",
          "name": "stdout",
          "text": [
            "sorrysorrysorrysorrysorrysorrysorrysorrysorrysorry\n"
          ]
        }
      ]
    },
    {
      "cell_type": "code",
      "source": [
        "# iterators\n",
        "mytuple = (\"apple\", \"banana\", \"cherry\")\n",
        "myit = iter(mytuple)\n",
        "\n",
        "print(mytuple)\n",
        "\n",
        "print(myit)\n",
        "# print(next(myit))\n",
        "print(next(myit))"
      ],
      "metadata": {
        "id": "U7lb5FQS5Mnr",
        "colab": {
          "base_uri": "https://localhost:8080/"
        },
        "outputId": "dc6b13a4-4edb-4f49-c3f5-4902c083eea7"
      },
      "execution_count": null,
      "outputs": [
        {
          "output_type": "stream",
          "name": "stdout",
          "text": [
            "('apple', 'banana', 'cherry')\n",
            "<tuple_iterator object at 0x788140c33dc0>\n",
            "apple\n"
          ]
        }
      ]
    },
    {
      "cell_type": "code",
      "source": [
        "mytuple = (\"apple\", \"banana\", \"cherry\")\n",
        "\n",
        "for x in mytuple:\n",
        "  print(x)"
      ],
      "metadata": {
        "colab": {
          "base_uri": "https://localhost:8080/"
        },
        "id": "Gj3p5-eA_Swp",
        "outputId": "f81e43cf-bf58-4e07-a71c-beb74fa9686f"
      },
      "execution_count": null,
      "outputs": [
        {
          "output_type": "stream",
          "name": "stdout",
          "text": [
            "apple\n",
            "banana\n",
            "cherry\n"
          ]
        }
      ]
    },
    {
      "cell_type": "code",
      "source": [
        "mystre= (\"apple\", \"bnbnb\")\n",
        "\n",
        "for x in mystre:\n",
        "  print(x)"
      ],
      "metadata": {
        "colab": {
          "base_uri": "https://localhost:8080/"
        },
        "id": "opy15cZmANMk",
        "outputId": "a96fa5c7-7e90-4a76-d004-4757e31c5f7e"
      },
      "execution_count": null,
      "outputs": [
        {
          "output_type": "stream",
          "name": "stdout",
          "text": [
            "apple\n",
            "bnbnb\n"
          ]
        }
      ]
    },
    {
      "cell_type": "code",
      "source": [
        "mystr= \"like it\"\n",
        "\n",
        "for a in mystr:\n",
        "  print(a)"
      ],
      "metadata": {
        "colab": {
          "base_uri": "https://localhost:8080/"
        },
        "id": "0fgTHJ_SA3xZ",
        "outputId": "89c1f584-ace9-47a7-d2b1-f9589a1cae09"
      },
      "execution_count": null,
      "outputs": [
        {
          "output_type": "stream",
          "name": "stdout",
          "text": [
            "l\n",
            "i\n",
            "k\n",
            "e\n",
            " \n",
            "i\n",
            "t\n"
          ]
        }
      ]
    },
    {
      "cell_type": "code",
      "source": [
        "# Generators in Python\n",
        "\n",
        "def myGen():\n",
        "  for i in range(500):\n",
        "    yield i\n",
        "\n",
        "gen = myGen()\n",
        "print(next(gen))\n",
        "print(next(gen))\n",
        "print(next(gen))\n",
        "print(next(gen))"
      ],
      "metadata": {
        "colab": {
          "base_uri": "https://localhost:8080/"
        },
        "id": "Oot-PbEcBQ5W",
        "outputId": "1ad682a7-6931-4ff0-f270-577bf2f0d979"
      },
      "execution_count": null,
      "outputs": [
        {
          "output_type": "stream",
          "name": "stdout",
          "text": [
            "0\n",
            "1\n",
            "2\n",
            "3\n"
          ]
        }
      ]
    },
    {
      "cell_type": "code",
      "source": [
        "# /Creating a fibbinoci series using a generator\n",
        "def series(n):\n",
        "  a,b=0,1\n",
        "  for i in range(n):\n",
        "    yield a\n",
        "    a,b=b,a+b\n",
        "  else:\n",
        "   raise StopIteration\n",
        "\n",
        "fibbi= series(13)\n",
        "print(next(fibbi))\n",
        "print(next(fibbi))\n",
        "print(next(fibbi))\n",
        "print(next(fibbi))\n",
        "print(next(fibbi))\n",
        "print(next(fibbi))\n",
        "print(next(fibbi))\n",
        "print(next(fibbi))\n",
        "print(next(fibbi))\n",
        "print(next(fibbi))\n",
        "print(next(fibbi))\n",
        "print(next(fibbi))\n",
        "# print(next(fibbi))\n",
        "# print(next(fibbi))\n",
        "# print(next(fibbi))\n",
        "# print(next(fibbi))\n",
        "\n",
        "\n"
      ],
      "metadata": {
        "colab": {
          "base_uri": "https://localhost:8080/"
        },
        "id": "D2v6ilR7INH2",
        "outputId": "30906b6d-bb50-4f9d-d85a-5e082847fe94"
      },
      "execution_count": null,
      "outputs": [
        {
          "output_type": "stream",
          "name": "stdout",
          "text": [
            "0\n",
            "1\n",
            "1\n",
            "2\n",
            "3\n",
            "5\n",
            "8\n",
            "13\n",
            "21\n",
            "34\n",
            "55\n",
            "89\n"
          ]
        }
      ]
    },
    {
      "cell_type": "code",
      "source": [
        "print(\"Welcome to the Number Guessing Game\")\n",
        "print(\"------------------------------------\")\n",
        "\n",
        "import random\n",
        "\n",
        "number= random.randint(1,100)\n",
        "guess=0\n",
        "\n",
        "while guess!= number:\n",
        "    guess= int(input(\"Enter your guess: \"))\n",
        "\n",
        "    if (guess<number):\n",
        "        print(\"Guess Higher!\")\n",
        "    elif (guess>number):\n",
        "        print(\"Guess lower!\")\n",
        "    else:\n",
        "        print(\"You Won!\")"
      ],
      "metadata": {
        "colab": {
          "base_uri": "https://localhost:8080/"
        },
        "id": "kwELIhHQLTp_",
        "outputId": "90224aca-3e1a-4ea0-f6b7-782914116875"
      },
      "execution_count": null,
      "outputs": [
        {
          "output_type": "stream",
          "name": "stdout",
          "text": [
            "Welcome to the Number Guessing Game\n",
            "------------------------------------\n",
            "Enter your guess: 45\n",
            "Guess lower!\n",
            "Enter your guess: 25\n",
            "Guess lower!\n",
            "Enter your guess: 15\n",
            "Guess lower!\n",
            "Enter your guess: 5\n",
            "Guess Higher!\n",
            "Enter your guess: 10\n",
            "Guess lower!\n",
            "Enter your guess: 7\n",
            "Guess Higher!\n",
            "Enter your guess: 9\n",
            "Guess lower!\n",
            "Enter your guess: 8\n",
            "You Won!\n"
          ]
        }
      ]
    },
    {
      "cell_type": "code",
      "source": [
        "import re"
      ],
      "metadata": {
        "id": "dnar9xYVZTFL"
      },
      "execution_count": null,
      "outputs": []
    },
    {
      "cell_type": "code",
      "source": [
        "pattern= r\"[a-z]+ex\"\n",
        "text = ''' Regular expressions, also known as regex, are powerful tools used for matching patterns in strings of text. In Python, regular expressions are supported by the built-in \"re\" module. Let's say we want to find all email addresses in a string. We can use regular expressions to define a pattern that matches email addresses. '''\n",
        "# pattern= re.compile(text)\n",
        "# match= re.search(pattern, text)\n",
        "# print(match)\n",
        "\n",
        "matches = re.finditer(pattern, text)\n",
        "for match in matches:\n",
        "  print(match)\n",
        "\n"
      ],
      "metadata": {
        "colab": {
          "base_uri": "https://localhost:8080/"
        },
        "id": "RhGqJsuGg2ga",
        "outputId": "a8bc4da7-2697-453a-d476-27d91879a26a"
      },
      "execution_count": null,
      "outputs": [
        {
          "output_type": "stream",
          "name": "stdout",
          "text": [
            "<re.Match object; span=(36, 41), match='regex'>\n",
            "<re.Match object; span=(103, 106), match='tex'>\n"
          ]
        }
      ]
    },
    {
      "cell_type": "code",
      "source": [
        "# match = pattern.search(text)"
      ],
      "metadata": {
        "id": "MbrEslpEhgAo"
      },
      "execution_count": null,
      "outputs": []
    },
    {
      "cell_type": "code",
      "source": [
        "match= re.search(pattern, text)"
      ],
      "metadata": {
        "id": "_CCjZjogiSSa"
      },
      "execution_count": null,
      "outputs": []
    },
    {
      "cell_type": "code",
      "source": [
        "cylo = `(1, 2, 3)`, `('a', 'b', 'c')`, `(True, 1.5, 'hello')"
      ],
      "metadata": {
        "id": "WHR9rz_7icFF"
      },
      "execution_count": null,
      "outputs": []
    },
    {
      "cell_type": "code",
      "source": [
        "arr = [1, 2, 3, 4, 5]\n",
        "arr.remove(3)\n",
        "print(arr)"
      ],
      "metadata": {
        "id": "w_AGyDElUnCd",
        "colab": {
          "base_uri": "https://localhost:8080/"
        },
        "outputId": "44467c66-897e-4d1b-d317-a9841b41e1cb"
      },
      "execution_count": null,
      "outputs": [
        {
          "output_type": "stream",
          "name": "stdout",
          "text": [
            "[1, 2, 4, 5]\n"
          ]
        }
      ]
    },
    {
      "cell_type": "code",
      "source": [
        "arr = ['a', 'b', 'c', 'd', 'e']\n",
        "del arr[2]\n",
        "print(arr)"
      ],
      "metadata": {
        "colab": {
          "base_uri": "https://localhost:8080/"
        },
        "id": "wYBVZVruneiM",
        "outputId": "ec330892-0ac8-4905-ba22-093a7588da19"
      },
      "execution_count": null,
      "outputs": [
        {
          "output_type": "stream",
          "name": "stdout",
          "text": [
            "['a', 'b', 'd', 'e']\n"
          ]
        }
      ]
    },
    {
      "cell_type": "code",
      "source": [
        "#slicing\n",
        "arr = ['a', 'b', 'c', 'd', 'e']\n",
        "arr= arr[:2]+ arr[4:]\n",
        "print(arr)"
      ],
      "metadata": {
        "colab": {
          "base_uri": "https://localhost:8080/"
        },
        "id": "K2HW_SR8os7z",
        "outputId": "7b39a2eb-fe6a-4188-d64b-5f62f40de3d5"
      },
      "execution_count": null,
      "outputs": [
        {
          "output_type": "stream",
          "name": "stdout",
          "text": [
            "['a', 'b', 'e']\n"
          ]
        }
      ]
    },
    {
      "cell_type": "code",
      "source": [
        "# Define an array with some values\n",
        "arr = [1, 2, 3, 4, 5]\n",
        "arr = arr[:0] + arr[2:]\n",
        "print(arr)"
      ],
      "metadata": {
        "colab": {
          "base_uri": "https://localhost:8080/"
        },
        "id": "VAchOQIEqN3X",
        "outputId": "c26abde2-2821-4691-8e26-d0dadb2bc1c2"
      },
      "execution_count": null,
      "outputs": [
        {
          "output_type": "stream",
          "name": "stdout",
          "text": [
            "[3, 4, 5]\n"
          ]
        }
      ]
    },
    {
      "cell_type": "code",
      "source": [
        "for i in range(1,11):\n",
        "  print(i)"
      ],
      "metadata": {
        "colab": {
          "base_uri": "https://localhost:8080/"
        },
        "id": "yzxpFP48qnZL",
        "outputId": "4afa2a5c-ceec-4152-efa9-9e2dfeaa80b8"
      },
      "execution_count": null,
      "outputs": [
        {
          "output_type": "stream",
          "name": "stdout",
          "text": [
            "1\n",
            "2\n",
            "3\n",
            "4\n",
            "5\n",
            "6\n",
            "7\n",
            "8\n",
            "9\n",
            "10\n"
          ]
        }
      ]
    },
    {
      "cell_type": "code",
      "source": [
        "#to print even or odd\n",
        "num1 = int(input(\"Enter the number: \"))\n",
        "if (num1%2)==0:\n",
        "  print(\"Even\")\n",
        "else:\n",
        "  print(\"odd\")"
      ],
      "metadata": {
        "colab": {
          "base_uri": "https://localhost:8080/"
        },
        "id": "emMRFe9swLoA",
        "outputId": "aa912ce5-1e4a-4c13-afb8-0d5add4160ca"
      },
      "execution_count": null,
      "outputs": [
        {
          "output_type": "stream",
          "name": "stdout",
          "text": [
            "Enter the number: 6\n",
            "Even\n"
          ]
        }
      ]
    },
    {
      "cell_type": "code",
      "source": [
        "# Function to print full pyramid pattern\n",
        "def full_pyramid(n):\n",
        "    for i in range(1, n + 1):\n",
        "        # Print leading spaces\n",
        "        for j in range(n - i):\n",
        "            print(\" \", end=\"\")\n",
        "\n",
        "        # Print asterisks for the current row\n",
        "        for k in range(1, 2*i):\n",
        "            print(\"*\", end=\"\")"
      ],
      "metadata": {
        "id": "R3OE4y2bx2bP"
      },
      "execution_count": null,
      "outputs": []
    },
    {
      "cell_type": "code",
      "source": [
        "# Function to print pyramid of stars\n",
        "def print_pyramid(num):\n",
        "    # Outer loop for printing rows\n",
        "    for i in range(num):\n",
        "        # Inner loop for printing spaces\n",
        "        for j in range(num-i-1):\n",
        "            print(\" \", end=\"\")\n",
        "        # Inner loop for printing stars\n",
        "        for k in range(i+1):\n",
        "            print(\"* \", end=\"\")\n",
        "        # Printing new line\n",
        "        print()\n",
        "\n",
        "# Taking input from user\n",
        "num = int(input(\"Enter the number of rows: \"))\n",
        "# Calling the function\n",
        "print_pyramid(num)"
      ],
      "metadata": {
        "colab": {
          "base_uri": "https://localhost:8080/"
        },
        "id": "idpIt-wB09Df",
        "outputId": "11b24d3a-aac7-46aa-aa9e-b60202af22bf"
      },
      "execution_count": null,
      "outputs": [
        {
          "output_type": "stream",
          "name": "stdout",
          "text": [
            "Enter the number of rows: 10\n",
            "         * \n",
            "        * * \n",
            "       * * * \n",
            "      * * * * \n",
            "     * * * * * \n",
            "    * * * * * * \n",
            "   * * * * * * * \n",
            "  * * * * * * * * \n",
            " * * * * * * * * * \n",
            "* * * * * * * * * * \n"
          ]
        }
      ]
    },
    {
      "cell_type": "code",
      "source": [
        "#user division first or second\n",
        "a=55\n",
        "if (a>60):\n",
        "  print(\"first\")\n",
        "elif(a<60 and a>50):\n",
        "  print(\"second\")\n",
        "elif(a<50 and a>40):\n",
        "  print(\"third\")\n",
        "else:\n",
        "  print(\"fail\")"
      ],
      "metadata": {
        "colab": {
          "base_uri": "https://localhost:8080/"
        },
        "id": "5jnuAsqa17QK",
        "outputId": "208dcc15-4393-43c2-aede-e4474e3746ec"
      },
      "execution_count": null,
      "outputs": [
        {
          "output_type": "stream",
          "name": "stdout",
          "text": [
            "second\n"
          ]
        }
      ]
    },
    {
      "cell_type": "code",
      "source": [
        "# Regex in python\n",
        "import re\n",
        "pattern=\"are\""
      ],
      "metadata": {
        "id": "8bHrUhoz38qR"
      },
      "execution_count": null,
      "outputs": []
    },
    {
      "cell_type": "code",
      "source": [
        "text = \"Python Lambda Functions are anonymous function means that the function is without a name. As we already know that the def keyword is used to define a normal function in Python. Similarly, the lambda keyword is used to define an anonymous function in Python.\""
      ],
      "metadata": {
        "id": "mCrAmCOoUTlC"
      },
      "execution_count": null,
      "outputs": []
    },
    {
      "cell_type": "code",
      "source": [
        "match=re.search(pattern, text)\n",
        "print(match)"
      ],
      "metadata": {
        "colab": {
          "base_uri": "https://localhost:8080/"
        },
        "id": "_OQktJLjcO5l",
        "outputId": "0ca60b46-ea63-4dcf-974f-b959d5f5c29a"
      },
      "execution_count": null,
      "outputs": [
        {
          "output_type": "stream",
          "name": "stdout",
          "text": [
            "<re.Match object; span=(24, 27), match='are'>\n"
          ]
        }
      ]
    },
    {
      "cell_type": "code",
      "source": [
        "pattern= r\"[a-z]+ion\"\n",
        "# r is the raw string"
      ],
      "metadata": {
        "id": "AORexVdrcXHF"
      },
      "execution_count": null,
      "outputs": []
    },
    {
      "cell_type": "code",
      "source": [
        "matches=re.finditer(pattern, text)\n",
        "for match in matches:\n",
        "  print(match)"
      ],
      "metadata": {
        "colab": {
          "base_uri": "https://localhost:8080/"
        },
        "id": "b7cDmVF5l61r",
        "outputId": "13aaa517-1397-4aed-d564-3036c9be59c1"
      },
      "execution_count": null,
      "outputs": [
        {
          "output_type": "stream",
          "name": "stdout",
          "text": [
            "<re.Match object; span=(15, 22), match='unction'>\n",
            "<re.Match object; span=(38, 46), match='function'>\n",
            "<re.Match object; span=(62, 70), match='function'>\n",
            "<re.Match object; span=(157, 165), match='function'>\n",
            "<re.Match object; span=(238, 246), match='function'>\n"
          ]
        }
      ]
    },
    {
      "cell_type": "code",
      "source": [
        "#Decorators in python\n",
        "\n",
        "# defining a decorator function\n",
        "def mathes(fun):\n",
        "# inner function\n",
        "    def maths():\n",
        "        print(\"Maths is good\")\n",
        "        fun()\n",
        "        print(\"I love maths\")\n",
        "    return maths\n",
        "\n",
        "@mathes\n",
        "def hobby():\n",
        "  print(\"Maths is my hobby\")\n",
        "\n",
        "\n",
        "hobby()\n"
      ],
      "metadata": {
        "id": "PZwcXJ8MmTy9",
        "colab": {
          "base_uri": "https://localhost:8080/"
        },
        "outputId": "a476b966-2639-4e02-f755-7e15c2fa20ff"
      },
      "execution_count": null,
      "outputs": [
        {
          "output_type": "stream",
          "name": "stdout",
          "text": [
            "Maths is good\n",
            "Maths is my hobby\n",
            "I love maths\n"
          ]
        }
      ]
    },
    {
      "cell_type": "code",
      "source": [
        "hobby()"
      ],
      "metadata": {
        "colab": {
          "base_uri": "https://localhost:8080/",
          "height": 141
        },
        "id": "I3xpDaCw59YB",
        "outputId": "dd417535-c901-48e9-b7d5-f9d45c3b327a"
      },
      "execution_count": null,
      "outputs": [
        {
          "output_type": "error",
          "ename": "TypeError",
          "evalue": "'NoneType' object is not callable",
          "traceback": [
            "\u001b[0;31m---------------------------------------------------------------------------\u001b[0m",
            "\u001b[0;31mTypeError\u001b[0m                                 Traceback (most recent call last)",
            "\u001b[0;32m<ipython-input-15-4461c1a43d6d>\u001b[0m in \u001b[0;36m<cell line: 1>\u001b[0;34m()\u001b[0m\n\u001b[0;32m----> 1\u001b[0;31m \u001b[0mhobby\u001b[0m\u001b[0;34m(\u001b[0m\u001b[0;34m)\u001b[0m\u001b[0;34m\u001b[0m\u001b[0;34m\u001b[0m\u001b[0m\n\u001b[0m",
            "\u001b[0;31mTypeError\u001b[0m: 'NoneType' object is not callable"
          ]
        }
      ]
    },
    {
      "cell_type": "code",
      "source": [
        "# defining a decorator\n",
        "def print_msg(func):\n",
        "    # inner function that will add additional functionality\n",
        "    def inner():\n",
        "        print(\"Before executing function\")\n",
        "        # calling the original function\n",
        "        func()\n",
        "        print(\"After executing function\")\n",
        "    return inner\n",
        "\n",
        "# using the decorator\n",
        "@print_msg\n",
        "def hello():\n",
        "    print(\"Hello!\")\n",
        "\n",
        "# calling the decorated function\n",
        "hello()"
      ],
      "metadata": {
        "id": "ToETMu-18VS0",
        "colab": {
          "base_uri": "https://localhost:8080/"
        },
        "outputId": "810130d6-f6b9-4bcc-9105-a4a8ad70dcb7"
      },
      "execution_count": null,
      "outputs": [
        {
          "output_type": "stream",
          "name": "stdout",
          "text": [
            "Before executing function\n",
            "Hello!\n",
            "After executing function\n"
          ]
        }
      ]
    },
    {
      "cell_type": "code",
      "source": [
        "def sage(school):\n",
        "    def my_Fun():\n",
        "      print(\"I am a student\")\n",
        "      school()\n",
        "      print(\"In 3rd year\")\n",
        "    return my_Fun\n",
        "\n",
        "@sage\n",
        "def college():\n",
        "  print(\"In sage university\")\n",
        "\n",
        "college()"
      ],
      "metadata": {
        "id": "7brVWgSROuBK",
        "colab": {
          "base_uri": "https://localhost:8080/"
        },
        "outputId": "04c4ca2c-8d9c-4d7c-ed1e-a1276cbc6bb3"
      },
      "execution_count": null,
      "outputs": [
        {
          "output_type": "stream",
          "name": "stdout",
          "text": [
            "I am a student\n",
            "In sage university\n",
            "In 3rd year\n"
          ]
        }
      ]
    },
    {
      "cell_type": "code",
      "source": [
        "def sage(school):\n",
        "    def my_Fun():\n",
        "      print(\"I am a student\")\n",
        "      school()\n",
        "      print(\"In 3rd year\")\n",
        "    return my_Fun\n",
        "\n",
        "@sage\n",
        "def college():\n",
        "  print(\"In sage university\")\n",
        "@sage\n",
        "def uni():\n",
        "  print(\"good uni\")\n",
        "\n",
        "uni()\n",
        "college()"
      ],
      "metadata": {
        "colab": {
          "base_uri": "https://localhost:8080/"
        },
        "id": "Hdl6WziZqj0x",
        "outputId": "de48d97c-ac85-4282-cfa2-b7fa770502a4"
      },
      "execution_count": null,
      "outputs": [
        {
          "output_type": "stream",
          "name": "stdout",
          "text": [
            "I am a student\n",
            "good uni\n",
            "In 3rd year\n",
            "I am a student\n",
            "In sage university\n",
            "In 3rd year\n"
          ]
        }
      ]
    },
    {
      "cell_type": "code",
      "source": [
        "# Lambda functions\n",
        "\n",
        "add= lambda x,y:x+y\n",
        "print(add(10,20))"
      ],
      "metadata": {
        "id": "oX2cd-rrrSaq",
        "colab": {
          "base_uri": "https://localhost:8080/"
        },
        "outputId": "98960a25-04e6-4110-e15e-d28d825d390d"
      },
      "execution_count": null,
      "outputs": [
        {
          "output_type": "stream",
          "name": "stdout",
          "text": [
            "30\n"
          ]
        }
      ]
    },
    {
      "cell_type": "code",
      "source": [
        "multiply = lambda x,y,z:x*y*z\n",
        "print(multiply(10,20,30))"
      ],
      "metadata": {
        "colab": {
          "base_uri": "https://localhost:8080/"
        },
        "id": "0FECUpReY2I4",
        "outputId": "1bda15bf-f16d-4e77-f22c-76e9e4105fcd"
      },
      "execution_count": null,
      "outputs": [
        {
          "output_type": "stream",
          "name": "stdout",
          "text": [
            "6000\n"
          ]
        }
      ]
    },
    {
      "cell_type": "code",
      "source": [
        "# Without using lambda function\n",
        "def multiply(x,y,z):\n",
        "  return x*y*z\n",
        "print(multiply(10,20,30))"
      ],
      "metadata": {
        "colab": {
          "base_uri": "https://localhost:8080/"
        },
        "id": "FMAjMKbSZROd",
        "outputId": "3d317026-2bd5-4b12-a9df-16209457750d"
      },
      "execution_count": null,
      "outputs": [
        {
          "output_type": "stream",
          "name": "stdout",
          "text": [
            "6000\n"
          ]
        }
      ]
    },
    {
      "cell_type": "code",
      "source": [
        "# Enumerate function in python\n",
        "\n",
        "fruits= ['apple','banana','cherry','kiwi','mango']\n",
        "\n",
        "for index, fruit in enumerate(fruits):\n",
        "  print(index, fruit)"
      ],
      "metadata": {
        "id": "OacLaRFpZlSD",
        "colab": {
          "base_uri": "https://localhost:8080/"
        },
        "outputId": "d29751e7-f7b5-46e4-fe77-c1e624badbdf"
      },
      "execution_count": null,
      "outputs": [
        {
          "output_type": "stream",
          "name": "stdout",
          "text": [
            "0 apple\n",
            "1 banana\n",
            "2 cherry\n",
            "3 kiwi\n",
            "4 mango\n"
          ]
        }
      ]
    },
    {
      "cell_type": "code",
      "source": [
        "fruits= ['apple','banana','cherry','kiwi','mango']\n",
        "\n",
        "for index, fruit in enumerate(fruits):\n",
        "  print(index, fruit)\n",
        "  if (index==2):\n",
        "    print(\"I love this fruit\")\n"
      ],
      "metadata": {
        "colab": {
          "base_uri": "https://localhost:8080/"
        },
        "id": "feTd1r9hP--D",
        "outputId": "bebeb539-a748-4cf9-bbc4-3961163de5ef"
      },
      "execution_count": null,
      "outputs": [
        {
          "output_type": "stream",
          "name": "stdout",
          "text": [
            "0 apple\n",
            "1 banana\n",
            "2 cherry\n",
            "I love this fruit\n",
            "3 kiwi\n",
            "4 mango\n"
          ]
        }
      ]
    },
    {
      "cell_type": "code",
      "source": [
        "fruits= ['apple','banana','cherry','kiwi','mango']\n",
        "\n",
        "for index, fruit in enumerate(fruits,start=4):\n",
        "  print(index, fruit)\n",
        "  if (index==7):\n",
        "    print(\"I love this fruit\")"
      ],
      "metadata": {
        "colab": {
          "base_uri": "https://localhost:8080/"
        },
        "id": "XJ2QXi0IRNQB",
        "outputId": "253e80e0-46f0-40ca-fbbc-401c9db2364d"
      },
      "execution_count": null,
      "outputs": [
        {
          "output_type": "stream",
          "name": "stdout",
          "text": [
            "4 apple\n",
            "5 banana\n",
            "6 cherry\n",
            "7 kiwi\n",
            "I love this fruit\n",
            "8 mango\n"
          ]
        }
      ]
    },
    {
      "cell_type": "code",
      "source": [
        "# Learning OOP in python\n",
        "\n",
        "class details:\n",
        "  name=\"rohan\"\n",
        "  age=20\n",
        "\n",
        "  def version(self):\n",
        "    print(\"My name is\", self.name, \"and my age is\", self.age)\n",
        "\n",
        "obj= details()\n",
        "obj.version()"
      ],
      "metadata": {
        "id": "modM-EW0RS6B",
        "colab": {
          "base_uri": "https://localhost:8080/"
        },
        "outputId": "cfba6f4f-b680-42b2-e5b0-3ae1407acbcc"
      },
      "execution_count": null,
      "outputs": [
        {
          "output_type": "stream",
          "name": "stdout",
          "text": [
            "My name is rohan and my age is 20\n"
          ]
        }
      ]
    },
    {
      "cell_type": "code",
      "source": [
        "# Constructors\n",
        "\n",
        "class animals:\n",
        "  def __init__(self,name,group):\n",
        "    self.name= name\n",
        "    self.group= group\n",
        "\n",
        "  def info(self):\n",
        "    print(\"This animal name is\",self.name, \"and it belongs to \", self.group)"
      ],
      "metadata": {
        "id": "sCBr_6dAssr9"
      },
      "execution_count": null,
      "outputs": []
    },
    {
      "cell_type": "code",
      "source": [
        "a= animals(\"tiger\",\"carnivores\")\n",
        "a.info()"
      ],
      "metadata": {
        "colab": {
          "base_uri": "https://localhost:8080/"
        },
        "id": "CWIC01AFlXY3",
        "outputId": "a68c37fb-737a-4ed4-c978-eda6c7352f03"
      },
      "execution_count": null,
      "outputs": [
        {
          "output_type": "stream",
          "name": "stdout",
          "text": [
            "This animal name is tiger and it belongs to  carnivores\n"
          ]
        }
      ]
    },
    {
      "cell_type": "code",
      "source": [
        "b= animals(\"lion\",\"carnivores\")\n",
        "b.info()\n"
      ],
      "metadata": {
        "colab": {
          "base_uri": "https://localhost:8080/"
        },
        "id": "0fNStE7XloBw",
        "outputId": "5c0ab766-388e-4b37-a3b9-1bf2dded0608"
      },
      "execution_count": null,
      "outputs": [
        {
          "output_type": "stream",
          "name": "stdout",
          "text": [
            "This animal name is lion and it belongs to  carnivores\n"
          ]
        }
      ]
    },
    {
      "cell_type": "code",
      "source": [
        "class people:\n",
        "  def __init__(self,name,group):\n",
        "    self.name= name\n",
        "    self.group= group\n",
        "\n",
        "  def pui(self):\n",
        "    print(\"This animal name is\",self.name, \"and it belongs to \", self.group)\"\""
      ],
      "metadata": {
        "id": "aRacwBeHls2s"
      },
      "execution_count": null,
      "outputs": []
    },
    {
      "cell_type": "code",
      "source": [
        "a= people(\"tiger\",\"carnivores\")\n",
        "a.pui()"
      ],
      "metadata": {
        "colab": {
          "base_uri": "https://localhost:8080/"
        },
        "id": "KGsbN41UneJb",
        "outputId": "64ff9437-853a-4cf8-a5bb-48c7af319a06"
      },
      "execution_count": null,
      "outputs": [
        {
          "output_type": "stream",
          "name": "stdout",
          "text": [
            "This animal name is tiger and it belongs to  carnivores\n"
          ]
        }
      ]
    },
    {
      "cell_type": "code",
      "source": [
        "class people:\n",
        "  def __init__(self,name,group):\n",
        "    self.name= name\n",
        "    self.group= group\n",
        "\n",
        "a= people(\"tiger\",\"carnivores\")\n",
        "print(a.name,\"belongs to\", a.group)"
      ],
      "metadata": {
        "colab": {
          "base_uri": "https://localhost:8080/"
        },
        "id": "4X4LcGYAnjGL",
        "outputId": "80e607b6-27aa-48f8-c440-4cc01dd542a7"
      },
      "execution_count": null,
      "outputs": [
        {
          "output_type": "stream",
          "name": "stdout",
          "text": [
            "tiger belongs to carnivores\n"
          ]
        }
      ]
    },
    {
      "cell_type": "code",
      "source": [
        "#default constructor\n",
        "\n",
        "class bye:\n",
        "  def __init__(self):\n",
        "    print(\"tata bye bye\")\n",
        "\n",
        "a=bye()"
      ],
      "metadata": {
        "colab": {
          "base_uri": "https://localhost:8080/"
        },
        "id": "baF5R6Ieprc4",
        "outputId": "a629a017-8a55-400d-b1c1-825f7b3f6f01"
      },
      "execution_count": null,
      "outputs": [
        {
          "output_type": "stream",
          "name": "stdout",
          "text": [
            "tata bye bye\n"
          ]
        }
      ]
    },
    {
      "cell_type": "code",
      "source": [
        "# Inheritance\n",
        "class details:\n",
        "  def __init__(self, name, id):\n",
        "    self.name= name\n",
        "    self.id= id\n",
        "\n",
        "  def employee(self):\n",
        "    print(\"The name of the employee is\", self.name,\"with id number\",self.id)\n",
        "\n",
        "class mittarv (details):\n",
        "  def company(self,salary):\n",
        "    super().company(name,id,salary)\n",
        "    self.name= name\n",
        "    self.id= id\n",
        "    self.salary= salary\n",
        "\n",
        "    print(\"The salary of the employee is\", self.salary,\"with name\",self.name, self.id)\n",
        "    # super().employee()  #to call the parent class method\n",
        "\n",
        "a= details(\"rohan\", 123)\n",
        "a.employee()\n",
        "a= details(\"rahin\", 23)\n",
        "a.employee()\n",
        "a1= mittarv(\"rohanish\",234)\n",
        "a1.employee()\n"
      ],
      "metadata": {
        "id": "PJKfDGDdscTf",
        "colab": {
          "base_uri": "https://localhost:8080/"
        },
        "outputId": "eb882bf3-c68a-45de-f6c3-c9634abfe6be"
      },
      "execution_count": null,
      "outputs": [
        {
          "output_type": "stream",
          "name": "stdout",
          "text": [
            "The name of the employee is rohan with id number 123\n",
            "The name of the employee is rahin with id number 23\n",
            "The name of the employee is rohanish with id number 234\n"
          ]
        }
      ]
    },
    {
      "cell_type": "code",
      "source": [
        "# Super method in python\n",
        "\n",
        "class rectangle():\n",
        "  def __init__(self, length, width):\n",
        "    self.length= length\n",
        "    self.width= width\n",
        "\n",
        "class square(rectangle):\n",
        "  def __init__(self, length, width):\n",
        "    super().__init__(length, width)\n",
        "\n",
        "  def area(self):\n",
        "    return self.length*self.width\n",
        "\n",
        "class cube(rectangle):\n",
        "  def __init__(self, length , width, height):\n",
        "    super().__init__(length,width)\n",
        "    self.height= height\n",
        "\n",
        "  def volume(self):\n",
        "    return self.length*self.width*self.height\n",
        "\n",
        "a= square(10,54)\n",
        "print(a.area())\n",
        "b=cube(10,20,30)\n",
        "print(b.volume())\n",
        "print(b.__dict__)\n",
        "print(a.__dict__)\n",
        "\n",
        "\n",
        "\n",
        "\n"
      ],
      "metadata": {
        "id": "9CoIoyH05oIz",
        "colab": {
          "base_uri": "https://localhost:8080/"
        },
        "outputId": "c8c925e2-2e93-4198-c2f2-bd3c2bd4f6fa"
      },
      "execution_count": null,
      "outputs": [
        {
          "output_type": "stream",
          "name": "stdout",
          "text": [
            "540\n",
            "6000\n",
            "{'length': 10, 'width': 20, 'height': 30}\n",
            "{'length': 10, 'width': 54}\n"
          ]
        }
      ]
    },
    {
      "cell_type": "code",
      "source": [
        "x= [1,2,3,4,5]\n",
        "print(dir(x))\n",
        "print(x.__add__)"
      ],
      "metadata": {
        "id": "WbKf6a5MTQ3_",
        "colab": {
          "base_uri": "https://localhost:8080/"
        },
        "outputId": "4acb6c38-96c7-40cf-dd3b-3e7c0aeecf8a"
      },
      "execution_count": null,
      "outputs": [
        {
          "output_type": "stream",
          "name": "stdout",
          "text": [
            "['__add__', '__class__', '__class_getitem__', '__contains__', '__delattr__', '__delitem__', '__dir__', '__doc__', '__eq__', '__format__', '__ge__', '__getattribute__', '__getitem__', '__gt__', '__hash__', '__iadd__', '__imul__', '__init__', '__init_subclass__', '__iter__', '__le__', '__len__', '__lt__', '__mul__', '__ne__', '__new__', '__reduce__', '__reduce_ex__', '__repr__', '__reversed__', '__rmul__', '__setattr__', '__setitem__', '__sizeof__', '__str__', '__subclasshook__', 'append', 'clear', 'copy', 'count', 'extend', 'index', 'insert', 'pop', 'remove', 'reverse', 'sort']\n",
            "<method-wrapper '__add__' of list object at 0x77fdd0675940>\n"
          ]
        }
      ]
    },
    {
      "cell_type": "code",
      "source": [
        "print(x.__getattribute__(\"3\"))"
      ],
      "metadata": {
        "id": "h9BoFCOVORdf",
        "colab": {
          "base_uri": "https://localhost:8080/",
          "height": 141
        },
        "outputId": "c734f3d0-4c29-4732-ad1a-50e8675e5d70"
      },
      "execution_count": null,
      "outputs": [
        {
          "output_type": "error",
          "ename": "AttributeError",
          "evalue": "'tuple' object has no attribute '3'",
          "traceback": [
            "\u001b[0;31m---------------------------------------------------------------------------\u001b[0m",
            "\u001b[0;31mAttributeError\u001b[0m                            Traceback (most recent call last)",
            "\u001b[0;32m<ipython-input-6-dfe66e9c89df>\u001b[0m in \u001b[0;36m<cell line: 1>\u001b[0;34m()\u001b[0m\n\u001b[0;32m----> 1\u001b[0;31m \u001b[0mprint\u001b[0m\u001b[0;34m(\u001b[0m\u001b[0mx\u001b[0m\u001b[0;34m.\u001b[0m\u001b[0m__getattribute__\u001b[0m\u001b[0;34m(\u001b[0m\u001b[0;34m\"3\"\u001b[0m\u001b[0;34m)\u001b[0m\u001b[0;34m)\u001b[0m\u001b[0;34m\u001b[0m\u001b[0;34m\u001b[0m\u001b[0m\n\u001b[0m",
            "\u001b[0;31mAttributeError\u001b[0m: 'tuple' object has no attribute '3'"
          ]
        }
      ]
    },
    {
      "cell_type": "code",
      "source": [
        "a= \"Tanishqa\"\n",
        "print(len(a))"
      ],
      "metadata": {
        "id": "PZU5cvJHOU9f",
        "colab": {
          "base_uri": "https://localhost:8080/"
        },
        "outputId": "51adf729-0efe-4973-b50a-edc28841fc38"
      },
      "execution_count": null,
      "outputs": [
        {
          "output_type": "stream",
          "name": "stdout",
          "text": [
            "8\n"
          ]
        }
      ]
    },
    {
      "cell_type": "code",
      "source": [
        "class mine():\n",
        "  def __init__(self, name):\n",
        "    self.name= name\n",
        "\n",
        "  def __len__(self):\n",
        "    return len(self.name)\n",
        "\n",
        "a= mine(\"Tanishqa\")\n",
        "print(len(a))\n",
        "print(a.name)\n"
      ],
      "metadata": {
        "colab": {
          "base_uri": "https://localhost:8080/"
        },
        "id": "IxT2vEPat-8W",
        "outputId": "b8d705a8-4b3b-4b52-9aed-2624178d0b3f"
      },
      "execution_count": null,
      "outputs": [
        {
          "output_type": "stream",
          "name": "stdout",
          "text": [
            "8\n",
            "Tanishqa\n"
          ]
        }
      ]
    },
    {
      "cell_type": "code",
      "source": [
        "class Person:\n",
        "    def __init__(self, name, age):\n",
        "        self.name = name\n",
        "        self.age = age\n",
        "\n",
        "    def __str__(self):\n",
        "        return f'{self.name}, Age: {self.age} str'\n",
        "\n",
        "    def __repr__(self):\n",
        "      return f'{self.name}, Age: {self.age} repr'\n",
        "\n",
        "    def __call__(self):\n",
        "      return f'{self.name}, Age: {self.age} call'\n",
        "\n",
        "# Creating an instance of the Person class\n",
        "person = Person(\"Alice\", 30)\n",
        "\n",
        "# Using print() function to display the person's information\n",
        "# print(str(person))\n",
        "print(repr(person))  # This will call person.__str__()\n",
        "print(person())  # This will call person.__call__()"
      ],
      "metadata": {
        "id": "shy9BOh8uTE-",
        "colab": {
          "base_uri": "https://localhost:8080/"
        },
        "outputId": "1db2252d-83b1-45e4-cedb-5a254e7c3881"
      },
      "execution_count": null,
      "outputs": [
        {
          "output_type": "stream",
          "name": "stdout",
          "text": [
            "Alice, Age: 30 repr\n",
            "Alice, Age: 30 call\n"
          ]
        }
      ]
    },
    {
      "cell_type": "code",
      "source": [
        "# lists\n",
        "\n",
        "marks= [90,98,87,76, \"tanu\"]\n",
        "print(marks)\n",
        "print(len(marks))\n",
        "print(marks[0])\n",
        "print(marks[1])\n",
        "print(marks[2])\n",
        "print(marks[3])\n",
        "\n",
        "# negatve indexing\n",
        "print(marks[-1])\n",
        "print(marks[4-1])\n",
        "print(marks[3])\n",
        "\n",
        "\n",
        "# range of index\n",
        "print(marks[1:4])\n",
        "print(marks[:])\n",
        "print(marks[0:4:2])"
      ],
      "metadata": {
        "id": "e3p1M3KNWHPL",
        "colab": {
          "base_uri": "https://localhost:8080/"
        },
        "outputId": "3192183b-4121-4971-e5fa-b1be929dfa61"
      },
      "execution_count": null,
      "outputs": [
        {
          "output_type": "stream",
          "name": "stdout",
          "text": [
            "[90, 98, 87, 76, 'tanu']\n",
            "5\n",
            "90\n",
            "98\n",
            "87\n",
            "76\n",
            "tanu\n",
            "76\n",
            "76\n",
            "[98, 87, 76]\n",
            "[90, 98, 87, 76, 'tanu']\n",
            "[90, 87]\n"
          ]
        }
      ]
    },
    {
      "cell_type": "code",
      "source": [
        "if \"98\" in marks:\n",
        "  print(\"yes\")\n",
        "else:\n",
        "  print(\"no\")"
      ],
      "metadata": {
        "colab": {
          "base_uri": "https://localhost:8080/"
        },
        "id": "PiqZ5QeFZZZm",
        "outputId": "9466564f-214b-44af-c8cc-7d14106e637b"
      },
      "execution_count": null,
      "outputs": [
        {
          "output_type": "stream",
          "name": "stdout",
          "text": [
            "no\n"
          ]
        }
      ]
    },
    {
      "cell_type": "code",
      "source": [
        "if \"an\" in \"tanu\":\n",
        "  print(\"yeay\")\n",
        "else:\n",
        "  print(\"nay\")"
      ],
      "metadata": {
        "colab": {
          "base_uri": "https://localhost:8080/"
        },
        "id": "g8QEEUaWbpZy",
        "outputId": "c4f2f9e0-4e96-4755-d246-e30604c281fa"
      },
      "execution_count": null,
      "outputs": [
        {
          "output_type": "stream",
          "name": "stdout",
          "text": [
            "yeay\n"
          ]
        }
      ]
    },
    {
      "cell_type": "code",
      "source": [
        "# List methods"
      ],
      "metadata": {
        "id": "ShEo_PovgHCK"
      },
      "execution_count": 1,
      "outputs": []
    },
    {
      "cell_type": "code",
      "source": [
        "# append\n",
        "l= [11,12,13,14,15]\n",
        "l.append(20)\n",
        "print(l)"
      ],
      "metadata": {
        "colab": {
          "base_uri": "https://localhost:8080/"
        },
        "id": "H6HHbCWMSmej",
        "outputId": "68e22545-46b3-46e0-bc7b-818cb00cdfe8"
      },
      "execution_count": 3,
      "outputs": [
        {
          "output_type": "stream",
          "name": "stdout",
          "text": [
            "[11, 12, 13, 14, 15, 20]\n"
          ]
        }
      ]
    },
    {
      "cell_type": "code",
      "source": [
        "# index\n",
        "l= [11,12,13,14,15]\n",
        "m= l.index(14)\n",
        "print(m)\n",
        ""
      ],
      "metadata": {
        "colab": {
          "base_uri": "https://localhost:8080/"
        },
        "id": "UIegieCXS6xJ",
        "outputId": "15b43963-fe5a-4046-9f63-77d920323779"
      },
      "execution_count": 4,
      "outputs": [
        {
          "output_type": "stream",
          "name": "stdout",
          "text": [
            "3\n"
          ]
        }
      ]
    },
    {
      "cell_type": "code",
      "source": [
        "# count\n",
        "l= [11,12,13,14,15,14,14]\n",
        "m= l.count(14)\n",
        "print(m)"
      ],
      "metadata": {
        "colab": {
          "base_uri": "https://localhost:8080/"
        },
        "id": "9JRlGlBpUUwy",
        "outputId": "e5109cee-28e5-473b-d5ee-5264c3f47214"
      },
      "execution_count": 6,
      "outputs": [
        {
          "output_type": "stream",
          "name": "stdout",
          "text": [
            "3\n"
          ]
        }
      ]
    },
    {
      "cell_type": "code",
      "source": [
        "# sort\n",
        "l= [11,2,13,14,15,1]\n",
        "# l.sort()\n",
        "l.sort(reverse=True)\n",
        "print(l)"
      ],
      "metadata": {
        "colab": {
          "base_uri": "https://localhost:8080/"
        },
        "id": "dZU6bTE8dOE9",
        "outputId": "7196e1cf-44c2-4d9c-fdab-4a75a9861cc8"
      },
      "execution_count": 11,
      "outputs": [
        {
          "output_type": "stream",
          "name": "stdout",
          "text": [
            "[15, 14, 13, 11, 2, 1]\n"
          ]
        }
      ]
    },
    {
      "cell_type": "code",
      "source": [
        "l= [11,2,13,14,15,1]\n",
        "# l.sort()\n",
        "l.sort(reverse=True)\n",
        "print(l)"
      ],
      "metadata": {
        "colab": {
          "base_uri": "https://localhost:8080/"
        },
        "id": "xY3oWZ2Pd_Ma",
        "outputId": "5c6ab97c-3492-443c-cead-c3e5886581e7"
      },
      "execution_count": 12,
      "outputs": [
        {
          "output_type": "stream",
          "name": "stdout",
          "text": [
            "[15, 14, 13, 11, 2, 1]\n"
          ]
        }
      ]
    },
    {
      "cell_type": "code",
      "source": [],
      "metadata": {
        "id": "hKK486hff4m6"
      },
      "execution_count": null,
      "outputs": []
    }
  ]
}